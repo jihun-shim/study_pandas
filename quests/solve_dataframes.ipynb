{
 "cells": [
  {
   "cell_type": "markdown",
   "metadata": {},
   "source": [
    "## quest"
   ]
  },
  {
   "cell_type": "code",
   "execution_count": 48,
   "metadata": {},
   "outputs": [],
   "source": [
    "import pandas as pd"
   ]
  },
  {
   "cell_type": "markdown",
   "metadata": {},
   "source": [
    "####\n",
    "1. DataFrame 생성\n",
    "위 데이터를 DataFrame으로 생성하세요. 컬럼 이름은 ['종목코드', '종목명', '시작일 기준가', '종료일 종가', '대비', '등락률', '거래량', '거래대금']로 설정하세요."
   ]
  },
  {
   "cell_type": "code",
   "execution_count": 49,
   "metadata": {},
   "outputs": [
    {
     "data": {
      "text/html": [
       "<div>\n",
       "<style scoped>\n",
       "    .dataframe tbody tr th:only-of-type {\n",
       "        vertical-align: middle;\n",
       "    }\n",
       "\n",
       "    .dataframe tbody tr th {\n",
       "        vertical-align: top;\n",
       "    }\n",
       "\n",
       "    .dataframe thead th {\n",
       "        text-align: right;\n",
       "    }\n",
       "</style>\n",
       "<table border=\"1\" class=\"dataframe\">\n",
       "  <thead>\n",
       "    <tr style=\"text-align: right;\">\n",
       "      <th></th>\n",
       "      <th>종목코드</th>\n",
       "      <th>종목명</th>\n",
       "      <th>시작일기준가</th>\n",
       "      <th>종료일종가</th>\n",
       "      <th>대비</th>\n",
       "      <th>등락률</th>\n",
       "      <th>거래량</th>\n",
       "      <th>거래대금</th>\n",
       "    </tr>\n",
       "  </thead>\n",
       "  <tbody>\n",
       "    <tr>\n",
       "      <th>0</th>\n",
       "      <td>60310</td>\n",
       "      <td>3S</td>\n",
       "      <td>1890</td>\n",
       "      <td>1941</td>\n",
       "      <td>51</td>\n",
       "      <td>2.70</td>\n",
       "      <td>3092688</td>\n",
       "      <td>5595723413</td>\n",
       "    </tr>\n",
       "    <tr>\n",
       "      <th>1</th>\n",
       "      <td>95570</td>\n",
       "      <td>AJ네트웍스</td>\n",
       "      <td>4600</td>\n",
       "      <td>4745</td>\n",
       "      <td>145</td>\n",
       "      <td>3.15</td>\n",
       "      <td>1046201</td>\n",
       "      <td>480695593</td>\n",
       "    </tr>\n",
       "    <tr>\n",
       "      <th>2</th>\n",
       "      <td>6840</td>\n",
       "      <td>AK홀딩스</td>\n",
       "      <td>11200</td>\n",
       "      <td>11070</td>\n",
       "      <td>-130</td>\n",
       "      <td>-1.16</td>\n",
       "      <td>55481</td>\n",
       "      <td>604085850</td>\n",
       "    </tr>\n",
       "    <tr>\n",
       "      <th>3</th>\n",
       "      <td>54620</td>\n",
       "      <td>APS</td>\n",
       "      <td>5660</td>\n",
       "      <td>5700</td>\n",
       "      <td>40</td>\n",
       "      <td>0.71</td>\n",
       "      <td>208525</td>\n",
       "      <td>1129272070</td>\n",
       "    </tr>\n",
       "  </tbody>\n",
       "</table>\n",
       "</div>"
      ],
      "text/plain": [
       "    종목코드     종목명  시작일기준가  종료일종가   대비   등락률      거래량        거래대금\n",
       "0  60310      3S    1890   1941   51  2.70  3092688  5595723413\n",
       "1  95570  AJ네트웍스    4600   4745  145  3.15  1046201   480695593\n",
       "2   6840   AK홀딩스   11200  11070 -130 -1.16    55481   604085850\n",
       "3  54620     APS    5660   5700   40  0.71   208525  1129272070"
      ]
     },
     "execution_count": 49,
     "metadata": {},
     "output_type": "execute_result"
    }
   ],
   "source": [
    "quest = {\n",
    "    '종목코드' : [60310, 95570, 6840, 54620]\n",
    "    ,'종목명' : ['3S', 'AJ네트웍스', 'AK홀딩스', 'APS']\n",
    "    ,'시작일기준가' : [1890, 4600, 11200, 5660]\n",
    "    ,'종료일종가' : [1941, 4745, 11070, 5700]\n",
    "    ,'대비' : [51, 145, -130, 40]\n",
    "    ,'등락률' : [2.7, 3.15, -1.16, 0.71]\n",
    "    ,'거래량' : [3092688, 1046201, 55481, 208525]\n",
    "    ,'거래대금' : [5595723413, 480695593, 604085850, 1129272070]\n",
    "    }\n",
    "\n",
    "stock_list = pd.DataFrame(quest)\n",
    "stock_list"
   ]
  },
  {
   "cell_type": "markdown",
   "metadata": {},
   "source": [
    "#### 2.기본 분석\n",
    "- 각 종목의 대비 열의 총합을 계산하세요.\n",
    "- 종목코드를 인덱스로 설정한 후, 종목명과 등락률만 포함하는 새로운 DataFrame을 생성하세요.\n",
    "- 등락률의 평균을 계산하세요."
   ]
  },
  {
   "cell_type": "code",
   "execution_count": 50,
   "metadata": {},
   "outputs": [
    {
     "data": {
      "text/plain": [
       "대비    106\n",
       "dtype: int64"
      ]
     },
     "execution_count": 50,
     "metadata": {},
     "output_type": "execute_result"
    }
   ],
   "source": [
    "stock_list[['대비']].sum()"
   ]
  },
  {
   "cell_type": "code",
   "execution_count": 51,
   "metadata": {},
   "outputs": [
    {
     "data": {
      "text/html": [
       "<div>\n",
       "<style scoped>\n",
       "    .dataframe tbody tr th:only-of-type {\n",
       "        vertical-align: middle;\n",
       "    }\n",
       "\n",
       "    .dataframe tbody tr th {\n",
       "        vertical-align: top;\n",
       "    }\n",
       "\n",
       "    .dataframe thead th {\n",
       "        text-align: right;\n",
       "    }\n",
       "</style>\n",
       "<table border=\"1\" class=\"dataframe\">\n",
       "  <thead>\n",
       "    <tr style=\"text-align: right;\">\n",
       "      <th></th>\n",
       "      <th>종목명</th>\n",
       "      <th>등락률</th>\n",
       "    </tr>\n",
       "    <tr>\n",
       "      <th>종목코드</th>\n",
       "      <th></th>\n",
       "      <th></th>\n",
       "    </tr>\n",
       "  </thead>\n",
       "  <tbody>\n",
       "    <tr>\n",
       "      <th>60310</th>\n",
       "      <td>3S</td>\n",
       "      <td>2.70</td>\n",
       "    </tr>\n",
       "    <tr>\n",
       "      <th>95570</th>\n",
       "      <td>AJ네트웍스</td>\n",
       "      <td>3.15</td>\n",
       "    </tr>\n",
       "    <tr>\n",
       "      <th>6840</th>\n",
       "      <td>AK홀딩스</td>\n",
       "      <td>-1.16</td>\n",
       "    </tr>\n",
       "    <tr>\n",
       "      <th>54620</th>\n",
       "      <td>APS</td>\n",
       "      <td>0.71</td>\n",
       "    </tr>\n",
       "  </tbody>\n",
       "</table>\n",
       "</div>"
      ],
      "text/plain": [
       "          종목명   등락률\n",
       "종목코드               \n",
       "60310      3S  2.70\n",
       "95570  AJ네트웍스  3.15\n",
       "6840    AK홀딩스 -1.16\n",
       "54620     APS  0.71"
      ]
     },
     "execution_count": 51,
     "metadata": {},
     "output_type": "execute_result"
    }
   ],
   "source": [
    "new_stock_list = stock_list.set_index(keys = '종목코드').loc[:, ['종목명','등락률']]\n",
    "new_stock_list"
   ]
  },
  {
   "cell_type": "code",
   "execution_count": 52,
   "metadata": {},
   "outputs": [
    {
     "data": {
      "text/plain": [
       "등락률    1.35\n",
       "dtype: float64"
      ]
     },
     "execution_count": 52,
     "metadata": {},
     "output_type": "execute_result"
    }
   ],
   "source": [
    "new_stock_list[['등락률']].mean()"
   ]
  },
  {
   "cell_type": "markdown",
   "metadata": {},
   "source": [
    "#### 3.조건에 따른 필터링\n",
    "- 등락률이 양수인 종목만 필터링하여 출력하세요.\n",
    "- 거래대금이 10억 이상인 종목의 종목명과 거래대금을 출력하세요."
   ]
  },
  {
   "cell_type": "code",
   "execution_count": 68,
   "metadata": {},
   "outputs": [
    {
     "data": {
      "text/html": [
       "<div>\n",
       "<style scoped>\n",
       "    .dataframe tbody tr th:only-of-type {\n",
       "        vertical-align: middle;\n",
       "    }\n",
       "\n",
       "    .dataframe tbody tr th {\n",
       "        vertical-align: top;\n",
       "    }\n",
       "\n",
       "    .dataframe thead th {\n",
       "        text-align: right;\n",
       "    }\n",
       "</style>\n",
       "<table border=\"1\" class=\"dataframe\">\n",
       "  <thead>\n",
       "    <tr style=\"text-align: right;\">\n",
       "      <th></th>\n",
       "      <th>종목명</th>\n",
       "      <th>등락률</th>\n",
       "    </tr>\n",
       "    <tr>\n",
       "      <th>종목코드</th>\n",
       "      <th></th>\n",
       "      <th></th>\n",
       "    </tr>\n",
       "  </thead>\n",
       "  <tbody>\n",
       "    <tr>\n",
       "      <th>60310</th>\n",
       "      <td>3S</td>\n",
       "      <td>2.70</td>\n",
       "    </tr>\n",
       "    <tr>\n",
       "      <th>95570</th>\n",
       "      <td>AJ네트웍스</td>\n",
       "      <td>3.15</td>\n",
       "    </tr>\n",
       "    <tr>\n",
       "      <th>54620</th>\n",
       "      <td>APS</td>\n",
       "      <td>0.71</td>\n",
       "    </tr>\n",
       "  </tbody>\n",
       "</table>\n",
       "</div>"
      ],
      "text/plain": [
       "          종목명   등락률\n",
       "종목코드               \n",
       "60310      3S  2.70\n",
       "95570  AJ네트웍스  3.15\n",
       "54620     APS  0.71"
      ]
     },
     "execution_count": 68,
     "metadata": {},
     "output_type": "execute_result"
    }
   ],
   "source": [
    "positive_stock = new_stock_list.loc[new_stock_list['등락률'] > 0]\n",
    "positive_stock"
   ]
  },
  {
   "cell_type": "code",
   "execution_count": 70,
   "metadata": {},
   "outputs": [
    {
     "data": {
      "text/html": [
       "<div>\n",
       "<style scoped>\n",
       "    .dataframe tbody tr th:only-of-type {\n",
       "        vertical-align: middle;\n",
       "    }\n",
       "\n",
       "    .dataframe tbody tr th {\n",
       "        vertical-align: top;\n",
       "    }\n",
       "\n",
       "    .dataframe thead th {\n",
       "        text-align: right;\n",
       "    }\n",
       "</style>\n",
       "<table border=\"1\" class=\"dataframe\">\n",
       "  <thead>\n",
       "    <tr style=\"text-align: right;\">\n",
       "      <th></th>\n",
       "      <th>종목명</th>\n",
       "      <th>거래대금</th>\n",
       "    </tr>\n",
       "  </thead>\n",
       "  <tbody>\n",
       "    <tr>\n",
       "      <th>0</th>\n",
       "      <td>3S</td>\n",
       "      <td>5595723413</td>\n",
       "    </tr>\n",
       "    <tr>\n",
       "      <th>3</th>\n",
       "      <td>APS</td>\n",
       "      <td>1129272070</td>\n",
       "    </tr>\n",
       "  </tbody>\n",
       "</table>\n",
       "</div>"
      ],
      "text/plain": [
       "   종목명        거래대금\n",
       "0   3S  5595723413\n",
       "3  APS  1129272070"
      ]
     },
     "execution_count": 70,
     "metadata": {},
     "output_type": "execute_result"
    }
   ],
   "source": [
    "high_trade = stock_list.loc[stock_list['거래대금'] > 1000000000, ['종목명','거래대금']]\n",
    "high_trade"
   ]
  },
  {
   "cell_type": "markdown",
   "metadata": {},
   "source": [
    "#### 4. 5. 시간 부족으로 gpt 복붙 나중에 코드 확인하기"
   ]
  },
  {
   "cell_type": "markdown",
   "metadata": {},
   "source": [
    "#### 4. 데이터 변환 및 정렬\n",
    "- 거래량 기준으로 DataFrame을 내림차순으로 정렬하세요.\n",
    "- 등락률을 기준으로 종목명을 오름차순으로 정렬하여 새로운 DataFrame을 생성하세요.\n"
   ]
  },
  {
   "cell_type": "code",
   "execution_count": 73,
   "metadata": {},
   "outputs": [
    {
     "data": {
      "text/html": [
       "<div>\n",
       "<style scoped>\n",
       "    .dataframe tbody tr th:only-of-type {\n",
       "        vertical-align: middle;\n",
       "    }\n",
       "\n",
       "    .dataframe tbody tr th {\n",
       "        vertical-align: top;\n",
       "    }\n",
       "\n",
       "    .dataframe thead th {\n",
       "        text-align: right;\n",
       "    }\n",
       "</style>\n",
       "<table border=\"1\" class=\"dataframe\">\n",
       "  <thead>\n",
       "    <tr style=\"text-align: right;\">\n",
       "      <th></th>\n",
       "      <th>종목코드</th>\n",
       "      <th>종목명</th>\n",
       "      <th>시작일기준가</th>\n",
       "      <th>종료일종가</th>\n",
       "      <th>대비</th>\n",
       "      <th>등락률</th>\n",
       "      <th>거래량</th>\n",
       "      <th>거래대금</th>\n",
       "    </tr>\n",
       "  </thead>\n",
       "  <tbody>\n",
       "    <tr>\n",
       "      <th>0</th>\n",
       "      <td>60310</td>\n",
       "      <td>3S</td>\n",
       "      <td>1890</td>\n",
       "      <td>1941</td>\n",
       "      <td>51</td>\n",
       "      <td>2.70</td>\n",
       "      <td>3092688</td>\n",
       "      <td>5595723413</td>\n",
       "    </tr>\n",
       "    <tr>\n",
       "      <th>1</th>\n",
       "      <td>95570</td>\n",
       "      <td>AJ네트웍스</td>\n",
       "      <td>4600</td>\n",
       "      <td>4745</td>\n",
       "      <td>145</td>\n",
       "      <td>3.15</td>\n",
       "      <td>1046201</td>\n",
       "      <td>480695593</td>\n",
       "    </tr>\n",
       "    <tr>\n",
       "      <th>3</th>\n",
       "      <td>54620</td>\n",
       "      <td>APS</td>\n",
       "      <td>5660</td>\n",
       "      <td>5700</td>\n",
       "      <td>40</td>\n",
       "      <td>0.71</td>\n",
       "      <td>208525</td>\n",
       "      <td>1129272070</td>\n",
       "    </tr>\n",
       "    <tr>\n",
       "      <th>2</th>\n",
       "      <td>6840</td>\n",
       "      <td>AK홀딩스</td>\n",
       "      <td>11200</td>\n",
       "      <td>11070</td>\n",
       "      <td>-130</td>\n",
       "      <td>-1.16</td>\n",
       "      <td>55481</td>\n",
       "      <td>604085850</td>\n",
       "    </tr>\n",
       "  </tbody>\n",
       "</table>\n",
       "</div>"
      ],
      "text/plain": [
       "    종목코드     종목명  시작일기준가  종료일종가   대비   등락률      거래량        거래대금\n",
       "0  60310      3S    1890   1941   51  2.70  3092688  5595723413\n",
       "1  95570  AJ네트웍스    4600   4745  145  3.15  1046201   480695593\n",
       "3  54620     APS    5660   5700   40  0.71   208525  1129272070\n",
       "2   6840   AK홀딩스   11200  11070 -130 -1.16    55481   604085850"
      ]
     },
     "execution_count": 73,
     "metadata": {},
     "output_type": "execute_result"
    }
   ],
   "source": [
    "stock_list_sorted_by_volume = stock_list.sort_values(by='거래량', ascending=False) # False = 내림차순\n",
    "stock_list_sorted_by_volume"
   ]
  },
  {
   "cell_type": "code",
   "execution_count": 74,
   "metadata": {},
   "outputs": [
    {
     "data": {
      "text/html": [
       "<div>\n",
       "<style scoped>\n",
       "    .dataframe tbody tr th:only-of-type {\n",
       "        vertical-align: middle;\n",
       "    }\n",
       "\n",
       "    .dataframe tbody tr th {\n",
       "        vertical-align: top;\n",
       "    }\n",
       "\n",
       "    .dataframe thead th {\n",
       "        text-align: right;\n",
       "    }\n",
       "</style>\n",
       "<table border=\"1\" class=\"dataframe\">\n",
       "  <thead>\n",
       "    <tr style=\"text-align: right;\">\n",
       "      <th></th>\n",
       "      <th>종목코드</th>\n",
       "      <th>종목명</th>\n",
       "      <th>시작일기준가</th>\n",
       "      <th>종료일종가</th>\n",
       "      <th>대비</th>\n",
       "      <th>등락률</th>\n",
       "      <th>거래량</th>\n",
       "      <th>거래대금</th>\n",
       "    </tr>\n",
       "  </thead>\n",
       "  <tbody>\n",
       "    <tr>\n",
       "      <th>2</th>\n",
       "      <td>6840</td>\n",
       "      <td>AK홀딩스</td>\n",
       "      <td>11200</td>\n",
       "      <td>11070</td>\n",
       "      <td>-130</td>\n",
       "      <td>-1.16</td>\n",
       "      <td>55481</td>\n",
       "      <td>604085850</td>\n",
       "    </tr>\n",
       "    <tr>\n",
       "      <th>3</th>\n",
       "      <td>54620</td>\n",
       "      <td>APS</td>\n",
       "      <td>5660</td>\n",
       "      <td>5700</td>\n",
       "      <td>40</td>\n",
       "      <td>0.71</td>\n",
       "      <td>208525</td>\n",
       "      <td>1129272070</td>\n",
       "    </tr>\n",
       "    <tr>\n",
       "      <th>0</th>\n",
       "      <td>60310</td>\n",
       "      <td>3S</td>\n",
       "      <td>1890</td>\n",
       "      <td>1941</td>\n",
       "      <td>51</td>\n",
       "      <td>2.70</td>\n",
       "      <td>3092688</td>\n",
       "      <td>5595723413</td>\n",
       "    </tr>\n",
       "    <tr>\n",
       "      <th>1</th>\n",
       "      <td>95570</td>\n",
       "      <td>AJ네트웍스</td>\n",
       "      <td>4600</td>\n",
       "      <td>4745</td>\n",
       "      <td>145</td>\n",
       "      <td>3.15</td>\n",
       "      <td>1046201</td>\n",
       "      <td>480695593</td>\n",
       "    </tr>\n",
       "  </tbody>\n",
       "</table>\n",
       "</div>"
      ],
      "text/plain": [
       "    종목코드     종목명  시작일기준가  종료일종가   대비   등락률      거래량        거래대금\n",
       "2   6840   AK홀딩스   11200  11070 -130 -1.16    55481   604085850\n",
       "3  54620     APS    5660   5700   40  0.71   208525  1129272070\n",
       "0  60310      3S    1890   1941   51  2.70  3092688  5595723413\n",
       "1  95570  AJ네트웍스    4600   4745  145  3.15  1046201   480695593"
      ]
     },
     "execution_count": 74,
     "metadata": {},
     "output_type": "execute_result"
    }
   ],
   "source": [
    "stock_list_sorted_by_change_rate = stock_list.sort_values(by='등락률', ascending=True) # True = 오름차순\n",
    "stock_list_sorted_by_change_rate"
   ]
  },
  {
   "cell_type": "markdown",
   "metadata": {},
   "source": [
    "#### 5. 추가 컬럼 생성\n",
    "- 수익률(= (종료일 종가 - 시작일 기준가) / 시작일 기준가 * 100)이라는 새로운 열을 추가하세요.\n",
    "- 거래량 대비 거래대금이라는 열을 추가하여 거래대금을 거래량으로 나눈 값을 계산하세요.\n"
   ]
  },
  {
   "cell_type": "code",
   "execution_count": 75,
   "metadata": {},
   "outputs": [
    {
     "data": {
      "text/html": [
       "<div>\n",
       "<style scoped>\n",
       "    .dataframe tbody tr th:only-of-type {\n",
       "        vertical-align: middle;\n",
       "    }\n",
       "\n",
       "    .dataframe tbody tr th {\n",
       "        vertical-align: top;\n",
       "    }\n",
       "\n",
       "    .dataframe thead th {\n",
       "        text-align: right;\n",
       "    }\n",
       "</style>\n",
       "<table border=\"1\" class=\"dataframe\">\n",
       "  <thead>\n",
       "    <tr style=\"text-align: right;\">\n",
       "      <th></th>\n",
       "      <th>종목코드</th>\n",
       "      <th>종목명</th>\n",
       "      <th>시작일기준가</th>\n",
       "      <th>종료일종가</th>\n",
       "      <th>대비</th>\n",
       "      <th>등락률</th>\n",
       "      <th>거래량</th>\n",
       "      <th>거래대금</th>\n",
       "      <th>수익률</th>\n",
       "    </tr>\n",
       "  </thead>\n",
       "  <tbody>\n",
       "    <tr>\n",
       "      <th>0</th>\n",
       "      <td>60310</td>\n",
       "      <td>3S</td>\n",
       "      <td>1890</td>\n",
       "      <td>1941</td>\n",
       "      <td>51</td>\n",
       "      <td>2.70</td>\n",
       "      <td>3092688</td>\n",
       "      <td>5595723413</td>\n",
       "      <td>2.698413</td>\n",
       "    </tr>\n",
       "    <tr>\n",
       "      <th>1</th>\n",
       "      <td>95570</td>\n",
       "      <td>AJ네트웍스</td>\n",
       "      <td>4600</td>\n",
       "      <td>4745</td>\n",
       "      <td>145</td>\n",
       "      <td>3.15</td>\n",
       "      <td>1046201</td>\n",
       "      <td>480695593</td>\n",
       "      <td>3.152174</td>\n",
       "    </tr>\n",
       "    <tr>\n",
       "      <th>2</th>\n",
       "      <td>6840</td>\n",
       "      <td>AK홀딩스</td>\n",
       "      <td>11200</td>\n",
       "      <td>11070</td>\n",
       "      <td>-130</td>\n",
       "      <td>-1.16</td>\n",
       "      <td>55481</td>\n",
       "      <td>604085850</td>\n",
       "      <td>-1.160714</td>\n",
       "    </tr>\n",
       "    <tr>\n",
       "      <th>3</th>\n",
       "      <td>54620</td>\n",
       "      <td>APS</td>\n",
       "      <td>5660</td>\n",
       "      <td>5700</td>\n",
       "      <td>40</td>\n",
       "      <td>0.71</td>\n",
       "      <td>208525</td>\n",
       "      <td>1129272070</td>\n",
       "      <td>0.706714</td>\n",
       "    </tr>\n",
       "  </tbody>\n",
       "</table>\n",
       "</div>"
      ],
      "text/plain": [
       "    종목코드     종목명  시작일기준가  종료일종가   대비   등락률      거래량        거래대금       수익률\n",
       "0  60310      3S    1890   1941   51  2.70  3092688  5595723413  2.698413\n",
       "1  95570  AJ네트웍스    4600   4745  145  3.15  1046201   480695593  3.152174\n",
       "2   6840   AK홀딩스   11200  11070 -130 -1.16    55481   604085850 -1.160714\n",
       "3  54620     APS    5660   5700   40  0.71   208525  1129272070  0.706714"
      ]
     },
     "execution_count": 75,
     "metadata": {},
     "output_type": "execute_result"
    }
   ],
   "source": [
    "stock_list['수익률'] = (stock_list['종료일종가'] - stock_list['시작일기준가']) / stock_list['시작일기준가'] * 100\n",
    "stock_list"
   ]
  },
  {
   "cell_type": "code",
   "execution_count": 76,
   "metadata": {},
   "outputs": [
    {
     "data": {
      "text/html": [
       "<div>\n",
       "<style scoped>\n",
       "    .dataframe tbody tr th:only-of-type {\n",
       "        vertical-align: middle;\n",
       "    }\n",
       "\n",
       "    .dataframe tbody tr th {\n",
       "        vertical-align: top;\n",
       "    }\n",
       "\n",
       "    .dataframe thead th {\n",
       "        text-align: right;\n",
       "    }\n",
       "</style>\n",
       "<table border=\"1\" class=\"dataframe\">\n",
       "  <thead>\n",
       "    <tr style=\"text-align: right;\">\n",
       "      <th></th>\n",
       "      <th>종목코드</th>\n",
       "      <th>종목명</th>\n",
       "      <th>시작일기준가</th>\n",
       "      <th>종료일종가</th>\n",
       "      <th>대비</th>\n",
       "      <th>등락률</th>\n",
       "      <th>거래량</th>\n",
       "      <th>거래대금</th>\n",
       "      <th>수익률</th>\n",
       "      <th>거래량 대비 거래대금</th>\n",
       "    </tr>\n",
       "  </thead>\n",
       "  <tbody>\n",
       "    <tr>\n",
       "      <th>0</th>\n",
       "      <td>60310</td>\n",
       "      <td>3S</td>\n",
       "      <td>1890</td>\n",
       "      <td>1941</td>\n",
       "      <td>51</td>\n",
       "      <td>2.70</td>\n",
       "      <td>3092688</td>\n",
       "      <td>5595723413</td>\n",
       "      <td>2.698413</td>\n",
       "      <td>1809.339776</td>\n",
       "    </tr>\n",
       "    <tr>\n",
       "      <th>1</th>\n",
       "      <td>95570</td>\n",
       "      <td>AJ네트웍스</td>\n",
       "      <td>4600</td>\n",
       "      <td>4745</td>\n",
       "      <td>145</td>\n",
       "      <td>3.15</td>\n",
       "      <td>1046201</td>\n",
       "      <td>480695593</td>\n",
       "      <td>3.152174</td>\n",
       "      <td>459.467725</td>\n",
       "    </tr>\n",
       "    <tr>\n",
       "      <th>2</th>\n",
       "      <td>6840</td>\n",
       "      <td>AK홀딩스</td>\n",
       "      <td>11200</td>\n",
       "      <td>11070</td>\n",
       "      <td>-130</td>\n",
       "      <td>-1.16</td>\n",
       "      <td>55481</td>\n",
       "      <td>604085850</td>\n",
       "      <td>-1.160714</td>\n",
       "      <td>10888.157207</td>\n",
       "    </tr>\n",
       "    <tr>\n",
       "      <th>3</th>\n",
       "      <td>54620</td>\n",
       "      <td>APS</td>\n",
       "      <td>5660</td>\n",
       "      <td>5700</td>\n",
       "      <td>40</td>\n",
       "      <td>0.71</td>\n",
       "      <td>208525</td>\n",
       "      <td>1129272070</td>\n",
       "      <td>0.706714</td>\n",
       "      <td>5415.523654</td>\n",
       "    </tr>\n",
       "  </tbody>\n",
       "</table>\n",
       "</div>"
      ],
      "text/plain": [
       "    종목코드     종목명  시작일기준가  종료일종가   대비   등락률      거래량        거래대금       수익률  \\\n",
       "0  60310      3S    1890   1941   51  2.70  3092688  5595723413  2.698413   \n",
       "1  95570  AJ네트웍스    4600   4745  145  3.15  1046201   480695593  3.152174   \n",
       "2   6840   AK홀딩스   11200  11070 -130 -1.16    55481   604085850 -1.160714   \n",
       "3  54620     APS    5660   5700   40  0.71   208525  1129272070  0.706714   \n",
       "\n",
       "    거래량 대비 거래대금  \n",
       "0   1809.339776  \n",
       "1    459.467725  \n",
       "2  10888.157207  \n",
       "3   5415.523654  "
      ]
     },
     "execution_count": 76,
     "metadata": {},
     "output_type": "execute_result"
    }
   ],
   "source": [
    "stock_list['거래량 대비 거래대금'] = stock_list['거래대금'] / stock_list['거래량']\n",
    "stock_list"
   ]
  },
  {
   "cell_type": "markdown",
   "metadata": {},
   "source": []
  }
 ],
 "metadata": {
  "kernelspec": {
   "display_name": "Python 3",
   "language": "python",
   "name": "python3"
  },
  "language_info": {
   "codemirror_mode": {
    "name": "ipython",
    "version": 3
   },
   "file_extension": ".py",
   "mimetype": "text/x-python",
   "name": "python",
   "nbconvert_exporter": "python",
   "pygments_lexer": "ipython3",
   "version": "3.11.11"
  }
 },
 "nbformat": 4,
 "nbformat_minor": 2
}
