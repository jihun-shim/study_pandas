{
 "cells": [
  {
   "cell_type": "markdown",
   "metadata": {},
   "source": [
    "## load from html finance_yahoo"
   ]
  },
  {
   "cell_type": "code",
   "execution_count": 51,
   "metadata": {},
   "outputs": [],
   "source": [
    "import pandas as pd\n",
    "import requests\n",
    "\n",
    "uri = 'https://finance.yahoo.com/markets/'\n",
    "response = requests.get(uri)"
   ]
  },
  {
   "cell_type": "code",
   "execution_count": 52,
   "metadata": {},
   "outputs": [
    {
     "name": "stderr",
     "output_type": "stream",
     "text": [
      "/tmp/ipykernel_35341/1295319966.py:1: FutureWarning: Passing literal html to 'read_html' is deprecated and will be removed in a future version. To read from a literal string, wrap it in a 'StringIO' object.\n",
      "  df_financeyahoo_html = pd.read_html(io=response.text, encoding='utf-8')\n"
     ]
    }
   ],
   "source": [
    "df_financeyahoo_html = pd.read_html(io=response.text, encoding='utf-8')"
   ]
  },
  {
   "cell_type": "code",
   "execution_count": 53,
   "metadata": {},
   "outputs": [
    {
     "data": {
      "text/plain": [
       "(list, 20)"
      ]
     },
     "execution_count": 53,
     "metadata": {},
     "output_type": "execute_result"
    }
   ],
   "source": [
    "type(df_financeyahoo_html), len(df_financeyahoo_html)"
   ]
  },
  {
   "cell_type": "code",
   "execution_count": 62,
   "metadata": {},
   "outputs": [
    {
     "data": {
      "text/html": [
       "<div>\n",
       "<style scoped>\n",
       "    .dataframe tbody tr th:only-of-type {\n",
       "        vertical-align: middle;\n",
       "    }\n",
       "\n",
       "    .dataframe tbody tr th {\n",
       "        vertical-align: top;\n",
       "    }\n",
       "\n",
       "    .dataframe thead th {\n",
       "        text-align: right;\n",
       "    }\n",
       "</style>\n",
       "<table border=\"1\" class=\"dataframe\">\n",
       "  <thead>\n",
       "    <tr style=\"text-align: right;\">\n",
       "      <th></th>\n",
       "      <th>Symbol</th>\n",
       "      <th>Unnamed: 1</th>\n",
       "      <th>Price</th>\n",
       "      <th>Change %</th>\n",
       "    </tr>\n",
       "  </thead>\n",
       "  <tbody>\n",
       "    <tr>\n",
       "      <th>0</th>\n",
       "      <td>S&amp;P 500</td>\n",
       "      <td>NaN</td>\n",
       "      <td>6,084.19 +49.28 (+0.82%)</td>\n",
       "      <td>+0.82%</td>\n",
       "    </tr>\n",
       "    <tr>\n",
       "      <th>1</th>\n",
       "      <td>Dow 30</td>\n",
       "      <td>NaN</td>\n",
       "      <td>44,148.56 -99.27 (-0.22%)</td>\n",
       "      <td>-0.22%</td>\n",
       "    </tr>\n",
       "    <tr>\n",
       "      <th>2</th>\n",
       "      <td>Nasdaq</td>\n",
       "      <td>NaN</td>\n",
       "      <td>20,034.89 +347.65 (+1.77%)</td>\n",
       "      <td>+1.77%</td>\n",
       "    </tr>\n",
       "    <tr>\n",
       "      <th>3</th>\n",
       "      <td>Russell 2000</td>\n",
       "      <td>NaN</td>\n",
       "      <td>2,394.16 +11.38 (+0.48%)</td>\n",
       "      <td>+0.48%</td>\n",
       "    </tr>\n",
       "    <tr>\n",
       "      <th>4</th>\n",
       "      <td>VIX</td>\n",
       "      <td>NaN</td>\n",
       "      <td>13.76 +0.18 (+1.33%)</td>\n",
       "      <td>+1.33%</td>\n",
       "    </tr>\n",
       "    <tr>\n",
       "      <th>5</th>\n",
       "      <td>IBOVESPA</td>\n",
       "      <td>NaN</td>\n",
       "      <td>129,593.31 +1,364.82 (+1.06%)</td>\n",
       "      <td>+1.06%</td>\n",
       "    </tr>\n",
       "    <tr>\n",
       "      <th>6</th>\n",
       "      <td>S&amp;P/TSX Composite index</td>\n",
       "      <td>NaN</td>\n",
       "      <td>25,657.70 +153.37 (+0.60%)</td>\n",
       "      <td>+0.60%</td>\n",
       "    </tr>\n",
       "    <tr>\n",
       "      <th>7</th>\n",
       "      <td>US Dollar Index</td>\n",
       "      <td>NaN</td>\n",
       "      <td>106.59 -0.12 (-0.12%)</td>\n",
       "      <td>-0.12%</td>\n",
       "    </tr>\n",
       "  </tbody>\n",
       "</table>\n",
       "</div>"
      ],
      "text/plain": [
       "                    Symbol  Unnamed: 1                          Price Change %\n",
       "0                  S&P 500         NaN       6,084.19 +49.28 (+0.82%)   +0.82%\n",
       "1                   Dow 30         NaN      44,148.56 -99.27 (-0.22%)   -0.22%\n",
       "2                   Nasdaq         NaN     20,034.89 +347.65 (+1.77%)   +1.77%\n",
       "3             Russell 2000         NaN       2,394.16 +11.38 (+0.48%)   +0.48%\n",
       "4                      VIX         NaN           13.76 +0.18 (+1.33%)   +1.33%\n",
       "5                 IBOVESPA         NaN  129,593.31 +1,364.82 (+1.06%)   +1.06%\n",
       "6  S&P/TSX Composite index         NaN     25,657.70 +153.37 (+0.60%)   +0.60%\n",
       "7          US Dollar Index         NaN          106.59 -0.12 (-0.12%)   -0.12%"
      ]
     },
     "execution_count": 62,
     "metadata": {},
     "output_type": "execute_result"
    }
   ],
   "source": [
    "df_financeyahoo_html[0]"
   ]
  },
  {
   "cell_type": "code",
   "execution_count": 55,
   "metadata": {},
   "outputs": [
    {
     "data": {
      "text/html": [
       "<div>\n",
       "<style scoped>\n",
       "    .dataframe tbody tr th:only-of-type {\n",
       "        vertical-align: middle;\n",
       "    }\n",
       "\n",
       "    .dataframe tbody tr th {\n",
       "        vertical-align: top;\n",
       "    }\n",
       "\n",
       "    .dataframe thead th {\n",
       "        text-align: right;\n",
       "    }\n",
       "</style>\n",
       "<table border=\"1\" class=\"dataframe\">\n",
       "  <thead>\n",
       "    <tr style=\"text-align: right;\">\n",
       "      <th></th>\n",
       "      <th>Symbol</th>\n",
       "      <th>Unnamed: 1</th>\n",
       "      <th>Price</th>\n",
       "      <th>Change %</th>\n",
       "    </tr>\n",
       "  </thead>\n",
       "  <tbody>\n",
       "    <tr>\n",
       "      <th>0</th>\n",
       "      <td>S&amp;P 500</td>\n",
       "      <td>NaN</td>\n",
       "      <td>6,084.19 +49.28 (+0.82%)</td>\n",
       "      <td>+0.82%</td>\n",
       "    </tr>\n",
       "    <tr>\n",
       "      <th>1</th>\n",
       "      <td>Dow 30</td>\n",
       "      <td>NaN</td>\n",
       "      <td>44,148.56 -99.27 (-0.22%)</td>\n",
       "      <td>-0.22%</td>\n",
       "    </tr>\n",
       "    <tr>\n",
       "      <th>2</th>\n",
       "      <td>Nasdaq</td>\n",
       "      <td>NaN</td>\n",
       "      <td>20,034.89 +347.65 (+1.77%)</td>\n",
       "      <td>+1.77%</td>\n",
       "    </tr>\n",
       "    <tr>\n",
       "      <th>3</th>\n",
       "      <td>Russell 2000</td>\n",
       "      <td>NaN</td>\n",
       "      <td>2,394.16 +11.38 (+0.48%)</td>\n",
       "      <td>+0.48%</td>\n",
       "    </tr>\n",
       "    <tr>\n",
       "      <th>4</th>\n",
       "      <td>VIX</td>\n",
       "      <td>NaN</td>\n",
       "      <td>13.76 +0.18 (+1.33%)</td>\n",
       "      <td>+1.33%</td>\n",
       "    </tr>\n",
       "    <tr>\n",
       "      <th>5</th>\n",
       "      <td>IBOVESPA</td>\n",
       "      <td>NaN</td>\n",
       "      <td>129,593.31 +1,364.82 (+1.06%)</td>\n",
       "      <td>+1.06%</td>\n",
       "    </tr>\n",
       "    <tr>\n",
       "      <th>6</th>\n",
       "      <td>S&amp;P/TSX Composite index</td>\n",
       "      <td>NaN</td>\n",
       "      <td>25,657.70 +153.37 (+0.60%)</td>\n",
       "      <td>+0.60%</td>\n",
       "    </tr>\n",
       "    <tr>\n",
       "      <th>7</th>\n",
       "      <td>US Dollar Index</td>\n",
       "      <td>NaN</td>\n",
       "      <td>106.59 -0.12 (-0.12%)</td>\n",
       "      <td>-0.12%</td>\n",
       "    </tr>\n",
       "  </tbody>\n",
       "</table>\n",
       "</div>"
      ],
      "text/plain": [
       "                    Symbol  Unnamed: 1                          Price Change %\n",
       "0                  S&P 500         NaN       6,084.19 +49.28 (+0.82%)   +0.82%\n",
       "1                   Dow 30         NaN      44,148.56 -99.27 (-0.22%)   -0.22%\n",
       "2                   Nasdaq         NaN     20,034.89 +347.65 (+1.77%)   +1.77%\n",
       "3             Russell 2000         NaN       2,394.16 +11.38 (+0.48%)   +0.48%\n",
       "4                      VIX         NaN           13.76 +0.18 (+1.33%)   +1.33%\n",
       "5                 IBOVESPA         NaN  129,593.31 +1,364.82 (+1.06%)   +1.06%\n",
       "6  S&P/TSX Composite index         NaN     25,657.70 +153.37 (+0.60%)   +0.60%\n",
       "7          US Dollar Index         NaN          106.59 -0.12 (-0.12%)   -0.12%"
      ]
     },
     "execution_count": 55,
     "metadata": {},
     "output_type": "execute_result"
    }
   ],
   "source": [
    "df_financeyahoo_page = df_financeyahoo_html[0]\n",
    "df_financeyahoo_page"
   ]
  },
  {
   "cell_type": "code",
   "execution_count": 56,
   "metadata": {},
   "outputs": [
    {
     "data": {
      "text/plain": [
       "(pandas.core.frame.DataFrame, 8)"
      ]
     },
     "execution_count": 56,
     "metadata": {},
     "output_type": "execute_result"
    }
   ],
   "source": [
    "type(df_financeyahoo_page), len(df_financeyahoo_page)"
   ]
  },
  {
   "cell_type": "code",
   "execution_count": 57,
   "metadata": {},
   "outputs": [],
   "source": [
    "df_financeyahoo_page.to_csv('../datasets/load_html_save_csv.csv')"
   ]
  },
  {
   "cell_type": "code",
   "execution_count": 58,
   "metadata": {},
   "outputs": [
    {
     "data": {
      "text/html": [
       "<div>\n",
       "<style scoped>\n",
       "    .dataframe tbody tr th:only-of-type {\n",
       "        vertical-align: middle;\n",
       "    }\n",
       "\n",
       "    .dataframe tbody tr th {\n",
       "        vertical-align: top;\n",
       "    }\n",
       "\n",
       "    .dataframe thead th {\n",
       "        text-align: right;\n",
       "    }\n",
       "</style>\n",
       "<table border=\"1\" class=\"dataframe\">\n",
       "  <thead>\n",
       "    <tr style=\"text-align: right;\">\n",
       "      <th></th>\n",
       "      <th>Unnamed: 1</th>\n",
       "    </tr>\n",
       "  </thead>\n",
       "  <tbody>\n",
       "    <tr>\n",
       "      <th>count</th>\n",
       "      <td>0.0</td>\n",
       "    </tr>\n",
       "    <tr>\n",
       "      <th>mean</th>\n",
       "      <td>NaN</td>\n",
       "    </tr>\n",
       "    <tr>\n",
       "      <th>std</th>\n",
       "      <td>NaN</td>\n",
       "    </tr>\n",
       "    <tr>\n",
       "      <th>min</th>\n",
       "      <td>NaN</td>\n",
       "    </tr>\n",
       "    <tr>\n",
       "      <th>25%</th>\n",
       "      <td>NaN</td>\n",
       "    </tr>\n",
       "    <tr>\n",
       "      <th>50%</th>\n",
       "      <td>NaN</td>\n",
       "    </tr>\n",
       "    <tr>\n",
       "      <th>75%</th>\n",
       "      <td>NaN</td>\n",
       "    </tr>\n",
       "    <tr>\n",
       "      <th>max</th>\n",
       "      <td>NaN</td>\n",
       "    </tr>\n",
       "  </tbody>\n",
       "</table>\n",
       "</div>"
      ],
      "text/plain": [
       "       Unnamed: 1\n",
       "count         0.0\n",
       "mean          NaN\n",
       "std           NaN\n",
       "min           NaN\n",
       "25%           NaN\n",
       "50%           NaN\n",
       "75%           NaN\n",
       "max           NaN"
      ]
     },
     "execution_count": 58,
     "metadata": {},
     "output_type": "execute_result"
    }
   ],
   "source": [
    "# 이산형\n",
    "df_financeyahoo_page.describe()"
   ]
  },
  {
   "cell_type": "code",
   "execution_count": 59,
   "metadata": {},
   "outputs": [
    {
     "data": {
      "text/html": [
       "<div>\n",
       "<style scoped>\n",
       "    .dataframe tbody tr th:only-of-type {\n",
       "        vertical-align: middle;\n",
       "    }\n",
       "\n",
       "    .dataframe tbody tr th {\n",
       "        vertical-align: top;\n",
       "    }\n",
       "\n",
       "    .dataframe thead th {\n",
       "        text-align: right;\n",
       "    }\n",
       "</style>\n",
       "<table border=\"1\" class=\"dataframe\">\n",
       "  <thead>\n",
       "    <tr style=\"text-align: right;\">\n",
       "      <th></th>\n",
       "      <th>Symbol</th>\n",
       "      <th>Price</th>\n",
       "      <th>Change %</th>\n",
       "    </tr>\n",
       "  </thead>\n",
       "  <tbody>\n",
       "    <tr>\n",
       "      <th>count</th>\n",
       "      <td>8</td>\n",
       "      <td>8</td>\n",
       "      <td>8</td>\n",
       "    </tr>\n",
       "    <tr>\n",
       "      <th>unique</th>\n",
       "      <td>8</td>\n",
       "      <td>8</td>\n",
       "      <td>8</td>\n",
       "    </tr>\n",
       "    <tr>\n",
       "      <th>top</th>\n",
       "      <td>S&amp;P 500</td>\n",
       "      <td>6,084.19 +49.28 (+0.82%)</td>\n",
       "      <td>+0.82%</td>\n",
       "    </tr>\n",
       "    <tr>\n",
       "      <th>freq</th>\n",
       "      <td>1</td>\n",
       "      <td>1</td>\n",
       "      <td>1</td>\n",
       "    </tr>\n",
       "  </tbody>\n",
       "</table>\n",
       "</div>"
      ],
      "text/plain": [
       "         Symbol                     Price Change %\n",
       "count         8                         8        8\n",
       "unique        8                         8        8\n",
       "top     S&P 500  6,084.19 +49.28 (+0.82%)   +0.82%\n",
       "freq          1                         1        1"
      ]
     },
     "execution_count": 59,
     "metadata": {},
     "output_type": "execute_result"
    }
   ],
   "source": [
    "# 범주형\n",
    "df_financeyahoo_page.describe(include='object')"
   ]
  },
  {
   "cell_type": "code",
   "execution_count": 60,
   "metadata": {},
   "outputs": [
    {
     "name": "stdout",
     "output_type": "stream",
     "text": [
      "<class 'pandas.core.frame.DataFrame'>\n",
      "RangeIndex: 8 entries, 0 to 7\n",
      "Data columns (total 4 columns):\n",
      " #   Column      Non-Null Count  Dtype  \n",
      "---  ------      --------------  -----  \n",
      " 0   Symbol      8 non-null      object \n",
      " 1   Unnamed: 1  0 non-null      float64\n",
      " 2   Price       8 non-null      object \n",
      " 3   Change %    8 non-null      object \n",
      "dtypes: float64(1), object(3)\n",
      "memory usage: 388.0+ bytes\n"
     ]
    }
   ],
   "source": [
    "df_financeyahoo_page.info()"
   ]
  },
  {
   "cell_type": "code",
   "execution_count": null,
   "metadata": {},
   "outputs": [],
   "source": []
  }
 ],
 "metadata": {
  "kernelspec": {
   "display_name": "Python 3",
   "language": "python",
   "name": "python3"
  },
  "language_info": {
   "codemirror_mode": {
    "name": "ipython",
    "version": 3
   },
   "file_extension": ".py",
   "mimetype": "text/x-python",
   "name": "python",
   "nbconvert_exporter": "python",
   "pygments_lexer": "ipython3",
   "version": "3.11.11"
  }
 },
 "nbformat": 4,
 "nbformat_minor": 2
}
