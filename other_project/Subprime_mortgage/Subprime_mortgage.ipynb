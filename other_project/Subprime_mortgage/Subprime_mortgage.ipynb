{
 "cells": [
  {
   "cell_type": "code",
   "execution_count": 2,
   "metadata": {},
   "outputs": [
    {
     "ename": "ModuleNotFoundError",
     "evalue": "No module named 'tweepy'",
     "output_type": "error",
     "traceback": [
      "\u001b[0;31m---------------------------------------------------------------------------\u001b[0m",
      "\u001b[0;31mModuleNotFoundError\u001b[0m                       Traceback (most recent call last)",
      "Cell \u001b[0;32mIn[2], line 6\u001b[0m\n\u001b[1;32m      4\u001b[0m \u001b[38;5;28;01mfrom\u001b[39;00m \u001b[38;5;21;01msklearn\u001b[39;00m\u001b[38;5;21;01m.\u001b[39;00m\u001b[38;5;21;01mmodel_selection\u001b[39;00m \u001b[38;5;28;01mimport\u001b[39;00m train_test_split\n\u001b[1;32m      5\u001b[0m \u001b[38;5;28;01mimport\u001b[39;00m \u001b[38;5;21;01mmatplotlib\u001b[39;00m\u001b[38;5;21;01m.\u001b[39;00m\u001b[38;5;21;01mpyplot\u001b[39;00m \u001b[38;5;28;01mas\u001b[39;00m \u001b[38;5;21;01mplt\u001b[39;00m\n\u001b[0;32m----> 6\u001b[0m \u001b[38;5;28;01mimport\u001b[39;00m \u001b[38;5;21;01mtweepy\u001b[39;00m\n\u001b[1;32m      8\u001b[0m \u001b[38;5;66;03m# 1. X API 설정 (예시로 과거 데이터 가정)\u001b[39;00m\n\u001b[1;32m      9\u001b[0m \u001b[38;5;66;03m# 실제로는 본인의 API 키 필요: https://developer.twitter.com/\u001b[39;00m\n\u001b[1;32m     10\u001b[0m consumer_key \u001b[38;5;241m=\u001b[39m \u001b[38;5;124m\"\u001b[39m\u001b[38;5;124myour_consumer_key\u001b[39m\u001b[38;5;124m\"\u001b[39m\n",
      "\u001b[0;31mModuleNotFoundError\u001b[0m: No module named 'tweepy'"
     ]
    }
   ],
   "source": [
    "import yfinance as yf\n",
    "import pandas as pd\n",
    "from sklearn.ensemble import RandomForestClassifier\n",
    "from sklearn.model_selection import train_test_split\n",
    "import matplotlib.pyplot as plt\n",
    "import tweepy\n",
    "\n",
    "# 1. X API 설정 (예시로 과거 데이터 가정)\n",
    "# 실제로는 본인의 API 키 필요: https://developer.twitter.com/\n",
    "consumer_key = \"your_consumer_key\"\n",
    "consumer_secret = \"your_consumer_secret\"\n",
    "access_token = \"your_access_token\"\n",
    "access_token_secret = \"your_access_token_secret\"\n",
    "\n",
    "auth = tweepy.OAuthHandler(consumer_key, consumer_secret)\n",
    "auth.set_access_token(access_token, access_token_secret)\n",
    "api = tweepy.API(auth)\n",
    "\n",
    "# 2. 과거 데이터 수집\n",
    "sp500 = yf.download('SPY', start='2007-01-01', end='2009-12-31')\n",
    "sp500['Daily_Return'] = sp500['Close'].pct_change()\n",
    "sp500['Volatility'] = sp500['Close'].rolling(window=20).std()\n",
    "sp500['Crisis_Signal'] = (sp500['Daily_Return'] < -0.05) & (sp500['Volatility'] > sp500['Volatility'].mean())\n",
    "\n",
    "# 3. X 데이터 수집 (가정: \"SPY crash\" 키워드로 트윗 수 계산)\n",
    "# 실제론 2007-2009년 트윗은 제한적이라 예시로 최근 데이터 사용 가능\n",
    "def get_tweet_sentiment(date, keyword=\"SPY crash\"):\n",
    "    try:\n",
    "        tweets = tweepy.Cursor(api.search_tweets, q=keyword, lang=\"en\", \n",
    "                               since=date.strftime('%Y-%m-%d'), \n",
    "                               until=(date + pd.Timedelta(days=1)).strftime('%Y-%m-%d')).items(100)\n",
    "        tweet_count = len([tweet.text for tweet in tweets])\n",
    "        return tweet_count / 100  # 간단히 정규화 (0~1 사이)\n",
    "    except:\n",
    "        return 0  # 트윗 없으면 0\n",
    "\n",
    "# 데이터에 트윗 감성 추가 (샘플로 일부 날짜만)\n",
    "sp500['Tweet_Sentiment'] = [get_tweet_sentiment(date) for date in sp500.index[:10]] + [0] * (len(sp500) - 10)  # 예시로 10일만\n",
    "\n",
    "# 4. 데이터 정제\n",
    "data = sp500[['Daily_Return', 'Volatility', 'Tweet_Sentiment', 'Crisis_Signal']].dropna()\n",
    "X = data[['Daily_Return', 'Volatility', 'Tweet_Sentiment']]\n",
    "y = data['Crisis_Signal']\n",
    "\n",
    "# 5. 모델 학습\n",
    "X_train, X_test, y_train, y_test = train_test_split(X, y, test_size=0.2, shuffle=False)\n",
    "model = RandomForestClassifier(n_estimators=100, random_state=42)\n",
    "model.fit(X_train, y_train)\n",
    "print(f\"모델 정확도: {model.score(X_test, y_test):.2f}\")\n",
    "\n",
    "# 6. 예측\n",
    "predictions = model.predict(X)\n",
    "data['Prediction'] = predictions\n",
    "data['Trade_Signal'] = data['Prediction'].apply(lambda x: 'Sell' if x else 'Buy')\n",
    "\n",
    "# 7. 시각화\n",
    "plt.figure(figsize=(14, 7))\n",
    "plt.plot(data.index, sp500.loc[data.index, 'Close'], label='S&P 500 Close', color='blue')\n",
    "\n",
    "# 위기 신호 표시\n",
    "crisis_points = data[data['Prediction'] == True]\n",
    "plt.scatter(crisis_points.index, sp500.loc[crisis_points.index, 'Close'], color='red', label='Crisis Signal', marker='o')\n",
    "\n",
    "# 매매 신호 표시\n",
    "for index, row in data.iterrows():\n",
    "    if row['Trade_Signal'] == 'Buy':\n",
    "        plt.annotate('↑', xy=(index, sp500.loc[index, 'Close']), color='green', fontsize=12, ha='center')\n",
    "    elif row['Trade_Signal'] == 'Sell':\n",
    "        plt.annotate('↓', xy=(index, sp500.loc[index, 'Close']), color='red', fontsize=12, ha='center')\n",
    "\n",
    "plt.title('S&P 500 Price with Crisis and Trade Signals (2007-2009, with Tweet Sentiment)')\n",
    "plt.xlabel('Date')\n",
    "plt.ylabel('Price (USD)')\n",
    "plt.legend()\n",
    "plt.grid(True)\n",
    "plt.show()\n",
    "\n",
    "# 결과 출력\n",
    "print(data[['Daily_Return', 'Volatility', 'Tweet_Sentiment', 'Prediction', 'Trade_Signal']].tail())"
   ]
  },
  {
   "cell_type": "code",
   "execution_count": null,
   "metadata": {},
   "outputs": [],
   "source": []
  },
  {
   "cell_type": "code",
   "execution_count": null,
   "metadata": {},
   "outputs": [],
   "source": []
  }
 ],
 "metadata": {
  "kernelspec": {
   "display_name": "Python 3",
   "language": "python",
   "name": "python3"
  },
  "language_info": {
   "codemirror_mode": {
    "name": "ipython",
    "version": 3
   },
   "file_extension": ".py",
   "mimetype": "text/x-python",
   "name": "python",
   "nbconvert_exporter": "python",
   "pygments_lexer": "ipython3",
   "version": "3.11.11"
  }
 },
 "nbformat": 4,
 "nbformat_minor": 2
}
