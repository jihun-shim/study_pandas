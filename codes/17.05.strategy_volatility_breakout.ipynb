{
 "cells": [
  {
   "cell_type": "markdown",
   "metadata": {},
   "source": [
    "### 변동성 돌파 전략\n",
    "- ETF 종목 많이 사용\n",
    "- 변동폭 = 전일고가 - 전일저가 -> 목표가 = 당일 시가 +(변동폭 * K)"
   ]
  },
  {
   "cell_type": "code",
   "execution_count": 6,
   "metadata": {},
   "outputs": [],
   "source": [
    "from pykrx import stock"
   ]
  },
  {
   "cell_type": "code",
   "execution_count": null,
   "metadata": {},
   "outputs": [],
   "source": [
    "df_kosdaq_150 = stock.get_market_ohlcv_by_date('20101001', '20241230', '229200')"
   ]
  },
  {
   "cell_type": "code",
   "execution_count": null,
   "metadata": {},
   "outputs": [],
   "source": [
    "# 변동폭 컬럼 계산추가\n",
    "df_kosdaq_150['변동폭'] = df_kosdaq_150['고가'] - df_kosdaq_150['저가']"
   ]
  },
  {
   "cell_type": "code",
   "execution_count": 9,
   "metadata": {},
   "outputs": [
    {
     "data": {
      "text/plain": [
       "Index(['시가', '고가', '저가', '종가', '거래량', '등락률', '변동폭'], dtype='object')"
      ]
     },
     "execution_count": 9,
     "metadata": {},
     "output_type": "execute_result"
    }
   ],
   "source": [
    "df_kosdaq_150.columns"
   ]
  },
  {
   "cell_type": "code",
   "execution_count": 11,
   "metadata": {},
   "outputs": [
    {
     "data": {
      "text/html": [
       "<div>\n",
       "<style scoped>\n",
       "    .dataframe tbody tr th:only-of-type {\n",
       "        vertical-align: middle;\n",
       "    }\n",
       "\n",
       "    .dataframe tbody tr th {\n",
       "        vertical-align: top;\n",
       "    }\n",
       "\n",
       "    .dataframe thead th {\n",
       "        text-align: right;\n",
       "    }\n",
       "</style>\n",
       "<table border=\"1\" class=\"dataframe\">\n",
       "  <thead>\n",
       "    <tr style=\"text-align: right;\">\n",
       "      <th></th>\n",
       "      <th>시가</th>\n",
       "      <th>고가</th>\n",
       "      <th>저가</th>\n",
       "      <th>종가</th>\n",
       "      <th>거래량</th>\n",
       "      <th>등락률</th>\n",
       "      <th>변동폭</th>\n",
       "      <th>전일변동폭</th>\n",
       "    </tr>\n",
       "    <tr>\n",
       "      <th>날짜</th>\n",
       "      <th></th>\n",
       "      <th></th>\n",
       "      <th></th>\n",
       "      <th></th>\n",
       "      <th></th>\n",
       "      <th></th>\n",
       "      <th></th>\n",
       "      <th></th>\n",
       "    </tr>\n",
       "  </thead>\n",
       "  <tbody>\n",
       "    <tr>\n",
       "      <th>2015-10-01</th>\n",
       "      <td>10161</td>\n",
       "      <td>10161</td>\n",
       "      <td>10094</td>\n",
       "      <td>10101</td>\n",
       "      <td>31634</td>\n",
       "      <td>NaN</td>\n",
       "      <td>67</td>\n",
       "      <td>NaN</td>\n",
       "    </tr>\n",
       "    <tr>\n",
       "      <th>2015-10-02</th>\n",
       "      <td>10135</td>\n",
       "      <td>10159</td>\n",
       "      <td>10135</td>\n",
       "      <td>10148</td>\n",
       "      <td>63224</td>\n",
       "      <td>0.465300</td>\n",
       "      <td>24</td>\n",
       "      <td>67.0</td>\n",
       "    </tr>\n",
       "    <tr>\n",
       "      <th>2015-10-05</th>\n",
       "      <td>10255</td>\n",
       "      <td>10265</td>\n",
       "      <td>10210</td>\n",
       "      <td>10231</td>\n",
       "      <td>43154</td>\n",
       "      <td>0.817895</td>\n",
       "      <td>55</td>\n",
       "      <td>24.0</td>\n",
       "    </tr>\n",
       "    <tr>\n",
       "      <th>2015-10-06</th>\n",
       "      <td>10248</td>\n",
       "      <td>10274</td>\n",
       "      <td>10172</td>\n",
       "      <td>10176</td>\n",
       "      <td>42399</td>\n",
       "      <td>-0.537582</td>\n",
       "      <td>102</td>\n",
       "      <td>55.0</td>\n",
       "    </tr>\n",
       "  </tbody>\n",
       "</table>\n",
       "</div>"
      ],
      "text/plain": [
       "               시가     고가     저가     종가    거래량       등락률  변동폭  전일변동폭\n",
       "날짜                                                                 \n",
       "2015-10-01  10161  10161  10094  10101  31634       NaN   67    NaN\n",
       "2015-10-02  10135  10159  10135  10148  63224  0.465300   24   67.0\n",
       "2015-10-05  10255  10265  10210  10231  43154  0.817895   55   24.0\n",
       "2015-10-06  10248  10274  10172  10176  42399 -0.537582  102   55.0"
      ]
     },
     "execution_count": 11,
     "metadata": {},
     "output_type": "execute_result"
    }
   ],
   "source": [
    "# 전일 변동폭과 컬럼 shift 를 이용해 맞춤\n",
    "df_kosdaq_150['전일변동폭'] = df_kosdaq_150['변동폭'].shift(periods=1)\n",
    "df_kosdaq_150.head(4)"
   ]
  },
  {
   "cell_type": "code",
   "execution_count": 13,
   "metadata": {},
   "outputs": [
    {
     "data": {
      "text/html": [
       "<div>\n",
       "<style scoped>\n",
       "    .dataframe tbody tr th:only-of-type {\n",
       "        vertical-align: middle;\n",
       "    }\n",
       "\n",
       "    .dataframe tbody tr th {\n",
       "        vertical-align: top;\n",
       "    }\n",
       "\n",
       "    .dataframe thead th {\n",
       "        text-align: right;\n",
       "    }\n",
       "</style>\n",
       "<table border=\"1\" class=\"dataframe\">\n",
       "  <thead>\n",
       "    <tr style=\"text-align: right;\">\n",
       "      <th></th>\n",
       "      <th>시가</th>\n",
       "      <th>고가</th>\n",
       "      <th>저가</th>\n",
       "      <th>종가</th>\n",
       "      <th>거래량</th>\n",
       "      <th>등락률</th>\n",
       "      <th>변동폭</th>\n",
       "      <th>전일변동폭</th>\n",
       "      <th>목표가</th>\n",
       "    </tr>\n",
       "    <tr>\n",
       "      <th>날짜</th>\n",
       "      <th></th>\n",
       "      <th></th>\n",
       "      <th></th>\n",
       "      <th></th>\n",
       "      <th></th>\n",
       "      <th></th>\n",
       "      <th></th>\n",
       "      <th></th>\n",
       "      <th></th>\n",
       "    </tr>\n",
       "  </thead>\n",
       "  <tbody>\n",
       "    <tr>\n",
       "      <th>2015-10-01</th>\n",
       "      <td>10161</td>\n",
       "      <td>10161</td>\n",
       "      <td>10094</td>\n",
       "      <td>10101</td>\n",
       "      <td>31634</td>\n",
       "      <td>NaN</td>\n",
       "      <td>67</td>\n",
       "      <td>NaN</td>\n",
       "      <td>NaN</td>\n",
       "    </tr>\n",
       "    <tr>\n",
       "      <th>2015-10-02</th>\n",
       "      <td>10135</td>\n",
       "      <td>10159</td>\n",
       "      <td>10135</td>\n",
       "      <td>10148</td>\n",
       "      <td>63224</td>\n",
       "      <td>0.465300</td>\n",
       "      <td>24</td>\n",
       "      <td>67.0</td>\n",
       "      <td>10168.5</td>\n",
       "    </tr>\n",
       "    <tr>\n",
       "      <th>2015-10-05</th>\n",
       "      <td>10255</td>\n",
       "      <td>10265</td>\n",
       "      <td>10210</td>\n",
       "      <td>10231</td>\n",
       "      <td>43154</td>\n",
       "      <td>0.817895</td>\n",
       "      <td>55</td>\n",
       "      <td>24.0</td>\n",
       "      <td>10267.0</td>\n",
       "    </tr>\n",
       "    <tr>\n",
       "      <th>2015-10-06</th>\n",
       "      <td>10248</td>\n",
       "      <td>10274</td>\n",
       "      <td>10172</td>\n",
       "      <td>10176</td>\n",
       "      <td>42399</td>\n",
       "      <td>-0.537582</td>\n",
       "      <td>102</td>\n",
       "      <td>55.0</td>\n",
       "      <td>10275.5</td>\n",
       "    </tr>\n",
       "    <tr>\n",
       "      <th>2015-10-07</th>\n",
       "      <td>10094</td>\n",
       "      <td>10094</td>\n",
       "      <td>9947</td>\n",
       "      <td>9949</td>\n",
       "      <td>21324</td>\n",
       "      <td>-2.230739</td>\n",
       "      <td>147</td>\n",
       "      <td>102.0</td>\n",
       "      <td>10145.0</td>\n",
       "    </tr>\n",
       "  </tbody>\n",
       "</table>\n",
       "</div>"
      ],
      "text/plain": [
       "               시가     고가     저가     종가    거래량       등락률  변동폭  전일변동폭      목표가\n",
       "날짜                                                                          \n",
       "2015-10-01  10161  10161  10094  10101  31634       NaN   67    NaN      NaN\n",
       "2015-10-02  10135  10159  10135  10148  63224  0.465300   24   67.0  10168.5\n",
       "2015-10-05  10255  10265  10210  10231  43154  0.817895   55   24.0  10267.0\n",
       "2015-10-06  10248  10274  10172  10176  42399 -0.537582  102   55.0  10275.5\n",
       "2015-10-07  10094  10094   9947   9949  21324 -2.230739  147  102.0  10145.0"
      ]
     },
     "execution_count": 13,
     "metadata": {},
     "output_type": "execute_result"
    }
   ],
   "source": [
    "# 목표가 계산하여 컬럼추가\n",
    "df_kosdaq_150['목표가'] = df_kosdaq_150['시가'] + (df_kosdaq_150['전일변동폭'] * 0.5)\n",
    "df_kosdaq_150.head()"
   ]
  },
  {
   "cell_type": "code",
   "execution_count": 14,
   "metadata": {},
   "outputs": [
    {
     "data": {
      "text/plain": [
       "날짜\n",
       "2015-10-01         NaN\n",
       "2015-10-02    0.997984\n",
       "2015-10-05    0.996494\n",
       "2015-10-06    0.990317\n",
       "2015-10-07    0.980680\n",
       "                ...   \n",
       "2024-12-20    0.969095\n",
       "2024-12-23    0.989357\n",
       "2024-12-24    0.989205\n",
       "2024-12-26    0.983506\n",
       "2024-12-27    0.979773\n",
       "Length: 2272, dtype: float64"
      ]
     },
     "execution_count": 14,
     "metadata": {},
     "output_type": "execute_result"
    }
   ],
   "source": [
    "# 그날의 보유수익률\n",
    "df_kosdaq_150['종가'] / df_kosdaq_150['목표가']"
   ]
  },
  {
   "cell_type": "code",
   "execution_count": 15,
   "metadata": {},
   "outputs": [],
   "source": [
    "conditions = df_kosdaq_150['고가'] >= df_kosdaq_150['목표가'] # 매수 조건"
   ]
  },
  {
   "cell_type": "code",
   "execution_count": 18,
   "metadata": {},
   "outputs": [
    {
     "data": {
      "text/html": [
       "<div>\n",
       "<style scoped>\n",
       "    .dataframe tbody tr th:only-of-type {\n",
       "        vertical-align: middle;\n",
       "    }\n",
       "\n",
       "    .dataframe tbody tr th {\n",
       "        vertical-align: top;\n",
       "    }\n",
       "\n",
       "    .dataframe thead th {\n",
       "        text-align: right;\n",
       "    }\n",
       "</style>\n",
       "<table border=\"1\" class=\"dataframe\">\n",
       "  <thead>\n",
       "    <tr style=\"text-align: right;\">\n",
       "      <th></th>\n",
       "      <th>시가</th>\n",
       "      <th>고가</th>\n",
       "      <th>저가</th>\n",
       "      <th>종가</th>\n",
       "      <th>거래량</th>\n",
       "      <th>등락률</th>\n",
       "      <th>변동폭</th>\n",
       "      <th>전일변동폭</th>\n",
       "      <th>목표가</th>\n",
       "      <th>수익률</th>\n",
       "    </tr>\n",
       "    <tr>\n",
       "      <th>날짜</th>\n",
       "      <th></th>\n",
       "      <th></th>\n",
       "      <th></th>\n",
       "      <th></th>\n",
       "      <th></th>\n",
       "      <th></th>\n",
       "      <th></th>\n",
       "      <th></th>\n",
       "      <th></th>\n",
       "      <th></th>\n",
       "    </tr>\n",
       "  </thead>\n",
       "  <tbody>\n",
       "    <tr>\n",
       "      <th>2015-10-01</th>\n",
       "      <td>10161</td>\n",
       "      <td>10161</td>\n",
       "      <td>10094</td>\n",
       "      <td>10101</td>\n",
       "      <td>31634</td>\n",
       "      <td>NaN</td>\n",
       "      <td>67</td>\n",
       "      <td>NaN</td>\n",
       "      <td>NaN</td>\n",
       "      <td>1.0</td>\n",
       "    </tr>\n",
       "    <tr>\n",
       "      <th>2015-10-02</th>\n",
       "      <td>10135</td>\n",
       "      <td>10159</td>\n",
       "      <td>10135</td>\n",
       "      <td>10148</td>\n",
       "      <td>63224</td>\n",
       "      <td>0.465300</td>\n",
       "      <td>24</td>\n",
       "      <td>67.0</td>\n",
       "      <td>10168.5</td>\n",
       "      <td>1.0</td>\n",
       "    </tr>\n",
       "    <tr>\n",
       "      <th>2015-10-05</th>\n",
       "      <td>10255</td>\n",
       "      <td>10265</td>\n",
       "      <td>10210</td>\n",
       "      <td>10231</td>\n",
       "      <td>43154</td>\n",
       "      <td>0.817895</td>\n",
       "      <td>55</td>\n",
       "      <td>24.0</td>\n",
       "      <td>10267.0</td>\n",
       "      <td>1.0</td>\n",
       "    </tr>\n",
       "    <tr>\n",
       "      <th>2015-10-06</th>\n",
       "      <td>10248</td>\n",
       "      <td>10274</td>\n",
       "      <td>10172</td>\n",
       "      <td>10176</td>\n",
       "      <td>42399</td>\n",
       "      <td>-0.537582</td>\n",
       "      <td>102</td>\n",
       "      <td>55.0</td>\n",
       "      <td>10275.5</td>\n",
       "      <td>1.0</td>\n",
       "    </tr>\n",
       "    <tr>\n",
       "      <th>2015-10-07</th>\n",
       "      <td>10094</td>\n",
       "      <td>10094</td>\n",
       "      <td>9947</td>\n",
       "      <td>9949</td>\n",
       "      <td>21324</td>\n",
       "      <td>-2.230739</td>\n",
       "      <td>147</td>\n",
       "      <td>102.0</td>\n",
       "      <td>10145.0</td>\n",
       "      <td>1.0</td>\n",
       "    </tr>\n",
       "  </tbody>\n",
       "</table>\n",
       "</div>"
      ],
      "text/plain": [
       "               시가     고가     저가     종가    거래량       등락률  변동폭  전일변동폭      목표가  \\\n",
       "날짜                                                                             \n",
       "2015-10-01  10161  10161  10094  10101  31634       NaN   67    NaN      NaN   \n",
       "2015-10-02  10135  10159  10135  10148  63224  0.465300   24   67.0  10168.5   \n",
       "2015-10-05  10255  10265  10210  10231  43154  0.817895   55   24.0  10267.0   \n",
       "2015-10-06  10248  10274  10172  10176  42399 -0.537582  102   55.0  10275.5   \n",
       "2015-10-07  10094  10094   9947   9949  21324 -2.230739  147  102.0  10145.0   \n",
       "\n",
       "            수익률  \n",
       "날짜               \n",
       "2015-10-01  1.0  \n",
       "2015-10-02  1.0  \n",
       "2015-10-05  1.0  \n",
       "2015-10-06  1.0  \n",
       "2015-10-07  1.0  "
      ]
     },
     "execution_count": 18,
     "metadata": {},
     "output_type": "execute_result"
    }
   ],
   "source": [
    "import numpy as np\n",
    "# df_kosdaq_150['수익률'] = np.where = (conditions, df_kosdaq_150['종가'] / df_kosdaq_150['목표가'], 1)\n",
    "df_kosdaq_150['수익률'] = np.where(conditions, df_kosdaq_150['종가'] / df_kosdaq_150['목표가'], 1)\n",
    "df_kosdaq_150.head()"
   ]
  },
  {
   "cell_type": "code",
   "execution_count": 20,
   "metadata": {},
   "outputs": [],
   "source": [
    "df_kosdaq_150['누적수익률'] = df_kosdaq_150['수익률'].cumprod()"
   ]
  },
  {
   "cell_type": "code",
   "execution_count": 21,
   "metadata": {},
   "outputs": [
    {
     "data": {
      "text/html": [
       "<div>\n",
       "<style scoped>\n",
       "    .dataframe tbody tr th:only-of-type {\n",
       "        vertical-align: middle;\n",
       "    }\n",
       "\n",
       "    .dataframe tbody tr th {\n",
       "        vertical-align: top;\n",
       "    }\n",
       "\n",
       "    .dataframe thead th {\n",
       "        text-align: right;\n",
       "    }\n",
       "</style>\n",
       "<table border=\"1\" class=\"dataframe\">\n",
       "  <thead>\n",
       "    <tr style=\"text-align: right;\">\n",
       "      <th></th>\n",
       "      <th>시가</th>\n",
       "      <th>고가</th>\n",
       "      <th>저가</th>\n",
       "      <th>종가</th>\n",
       "      <th>거래량</th>\n",
       "      <th>등락률</th>\n",
       "      <th>변동폭</th>\n",
       "      <th>전일변동폭</th>\n",
       "      <th>목표가</th>\n",
       "      <th>수익률</th>\n",
       "      <th>누적수익률</th>\n",
       "    </tr>\n",
       "    <tr>\n",
       "      <th>날짜</th>\n",
       "      <th></th>\n",
       "      <th></th>\n",
       "      <th></th>\n",
       "      <th></th>\n",
       "      <th></th>\n",
       "      <th></th>\n",
       "      <th></th>\n",
       "      <th></th>\n",
       "      <th></th>\n",
       "      <th></th>\n",
       "      <th></th>\n",
       "    </tr>\n",
       "  </thead>\n",
       "  <tbody>\n",
       "    <tr>\n",
       "      <th>2024-12-20</th>\n",
       "      <td>11235</td>\n",
       "      <td>11255</td>\n",
       "      <td>10925</td>\n",
       "      <td>10975</td>\n",
       "      <td>9686866</td>\n",
       "      <td>-2.401067</td>\n",
       "      <td>330</td>\n",
       "      <td>180.0</td>\n",
       "      <td>11325.0</td>\n",
       "      <td>1.000000</td>\n",
       "      <td>2.774530</td>\n",
       "    </tr>\n",
       "    <tr>\n",
       "      <th>2024-12-23</th>\n",
       "      <td>11110</td>\n",
       "      <td>11285</td>\n",
       "      <td>11000</td>\n",
       "      <td>11155</td>\n",
       "      <td>14527835</td>\n",
       "      <td>1.640091</td>\n",
       "      <td>285</td>\n",
       "      <td>330.0</td>\n",
       "      <td>11275.0</td>\n",
       "      <td>0.989357</td>\n",
       "      <td>2.745001</td>\n",
       "    </tr>\n",
       "    <tr>\n",
       "      <th>2024-12-24</th>\n",
       "      <td>11205</td>\n",
       "      <td>11270</td>\n",
       "      <td>11135</td>\n",
       "      <td>11225</td>\n",
       "      <td>6202421</td>\n",
       "      <td>0.627521</td>\n",
       "      <td>135</td>\n",
       "      <td>285.0</td>\n",
       "      <td>11347.5</td>\n",
       "      <td>1.000000</td>\n",
       "      <td>2.745001</td>\n",
       "    </tr>\n",
       "    <tr>\n",
       "      <th>2024-12-26</th>\n",
       "      <td>11300</td>\n",
       "      <td>11300</td>\n",
       "      <td>11135</td>\n",
       "      <td>11180</td>\n",
       "      <td>8372497</td>\n",
       "      <td>-0.400891</td>\n",
       "      <td>165</td>\n",
       "      <td>135.0</td>\n",
       "      <td>11367.5</td>\n",
       "      <td>1.000000</td>\n",
       "      <td>2.745001</td>\n",
       "    </tr>\n",
       "    <tr>\n",
       "      <th>2024-12-27</th>\n",
       "      <td>11165</td>\n",
       "      <td>11260</td>\n",
       "      <td>10970</td>\n",
       "      <td>11020</td>\n",
       "      <td>3708508</td>\n",
       "      <td>-1.431127</td>\n",
       "      <td>290</td>\n",
       "      <td>165.0</td>\n",
       "      <td>11247.5</td>\n",
       "      <td>0.979773</td>\n",
       "      <td>2.689479</td>\n",
       "    </tr>\n",
       "  </tbody>\n",
       "</table>\n",
       "</div>"
      ],
      "text/plain": [
       "               시가     고가     저가     종가       거래량       등락률  변동폭  전일변동폭  \\\n",
       "날짜                                                                       \n",
       "2024-12-20  11235  11255  10925  10975   9686866 -2.401067  330  180.0   \n",
       "2024-12-23  11110  11285  11000  11155  14527835  1.640091  285  330.0   \n",
       "2024-12-24  11205  11270  11135  11225   6202421  0.627521  135  285.0   \n",
       "2024-12-26  11300  11300  11135  11180   8372497 -0.400891  165  135.0   \n",
       "2024-12-27  11165  11260  10970  11020   3708508 -1.431127  290  165.0   \n",
       "\n",
       "                목표가       수익률     누적수익률  \n",
       "날짜                                       \n",
       "2024-12-20  11325.0  1.000000  2.774530  \n",
       "2024-12-23  11275.0  0.989357  2.745001  \n",
       "2024-12-24  11347.5  1.000000  2.745001  \n",
       "2024-12-26  11367.5  1.000000  2.745001  \n",
       "2024-12-27  11247.5  0.979773  2.689479  "
      ]
     },
     "execution_count": 21,
     "metadata": {},
     "output_type": "execute_result"
    }
   ],
   "source": [
    "df_kosdaq_150.tail()"
   ]
  },
  {
   "cell_type": "markdown",
   "metadata": {},
   "source": [
    "#### 누적 수익률 이용한 CAGR "
   ]
  },
  {
   "cell_type": "code",
   "execution_count": 22,
   "metadata": {},
   "outputs": [
    {
     "data": {
      "text/plain": [
       "3375"
      ]
     },
     "execution_count": 22,
     "metadata": {},
     "output_type": "execute_result"
    }
   ],
   "source": [
    "delta_days = df_kosdaq_150.index[-1] - df_kosdaq_150.index[0]\n",
    "delta_days.days"
   ]
  },
  {
   "cell_type": "code",
   "execution_count": 26,
   "metadata": {},
   "outputs": [
    {
     "data": {
      "text/plain": [
       "9.246575342465754"
      ]
     },
     "execution_count": 26,
     "metadata": {},
     "output_type": "execute_result"
    }
   ],
   "source": [
    "year = delta_days.days / 365\n",
    "year"
   ]
  },
  {
   "cell_type": "code",
   "execution_count": 28,
   "metadata": {},
   "outputs": [
    {
     "data": {
      "text/plain": [
       "11.292989708612744"
      ]
     },
     "execution_count": 28,
     "metadata": {},
     "output_type": "execute_result"
    }
   ],
   "source": [
    "# CAGR\n",
    "CAGR = df_kosdaq_150['누적수익률'].iloc[-1] ** (1/year) - 1\n",
    "CAGR * 100 # 단순 보유율 비교필요 그래야 전략이 맞는지 안맞는지 알 수 있음"
   ]
  },
  {
   "cell_type": "markdown",
   "metadata": {},
   "source": [
    "#### 전략 적용 vs 단순 보유"
   ]
  },
  {
   "cell_type": "code",
   "execution_count": 29,
   "metadata": {},
   "outputs": [],
   "source": [
    "import matplotlib.pyplot as plt"
   ]
  },
  {
   "cell_type": "code",
   "execution_count": 34,
   "metadata": {},
   "outputs": [
    {
     "data": {
      "image/png": "[encoded data removed]",
      "text/plain": [
       "<Figure size 1000x600 with 1 Axes>"
      ]
     },
     "metadata": {},
     "output_type": "display_data"
    }
   ],
   "source": [
    "plt.figure(figsize= (10,6))\n",
    "# 변동성 돌파 전략\n",
    "plt.plot(df_kosdaq_150['누적수익률'], label='volatility rate')\n",
    "\n",
    "# 단순 보유\n",
    "plt.plot(df_kosdaq_150['종가'] / df_kosdaq_150['종가'].iloc[0], label='simple rate')\n",
    "\n",
    "plt.grid() # 옵션으로 사용하면 그래프에 네모칸 선이 생김\n",
    "plt.legend()\n",
    "plt.show()"
   ]
  },
  {
   "cell_type": "code",
   "execution_count": null,
   "metadata": {},
   "outputs": [],
   "source": []
  }
 ],
 "metadata": {
  "kernelspec": {
   "display_name": "Python 3",
   "language": "python",
   "name": "python3"
  },
  "language_info": {
   "codemirror_mode": {
    "name": "ipython",
    "version": 3
   },
   "file_extension": ".py",
   "mimetype": "text/x-python",
   "name": "python",
   "nbconvert_exporter": "python",
   "pygments_lexer": "ipython3",
   "version": "3.11.11"
  }
 },
 "nbformat": 4,
 "nbformat_minor": 2
}
