{
 "cells": [
  {
   "cell_type": "markdown",
   "metadata": {},
   "source": [
    "## Timestamp"
   ]
  },
  {
   "cell_type": "code",
   "execution_count": 1,
   "metadata": {},
   "outputs": [],
   "source": [
    "import pandas as pd"
   ]
  },
  {
   "cell_type": "markdown",
   "metadata": {},
   "source": [
    "### datetime\n",
    "- 형식만 맞출 때 : 년,월,일,시,분,초,ms"
   ]
  },
  {
   "cell_type": "code",
   "execution_count": 2,
   "metadata": {},
   "outputs": [],
   "source": [
    "ts_first = pd.to_datetime('2021-01-02')\n",
    "ts_second = pd.to_datetime('2021-01-02 09:21:20')\n",
    "ts_third = pd.to_datetime('20210102 092120')\n",
    "ts_fourth = pd.to_datetime('06/08/21', format='%d/%m/%y') #format='%d/%m/%y 사용형식에 맞춰 커스텀가능"
   ]
  },
  {
   "cell_type": "code",
   "execution_count": 3,
   "metadata": {},
   "outputs": [
    {
     "data": {
      "text/plain": [
       "(pandas._libs.tslibs.timestamps.Timestamp,\n",
       " Timestamp('2021-01-02 00:00:00'),\n",
       " pandas._libs.tslibs.timestamps.Timestamp,\n",
       " Timestamp('2021-01-02 09:21:20'),\n",
       " pandas._libs.tslibs.timestamps.Timestamp,\n",
       " Timestamp('2021-01-02 09:21:20'),\n",
       " pandas._libs.tslibs.timestamps.Timestamp,\n",
       " Timestamp('2021-08-06 00:00:00'))"
      ]
     },
     "execution_count": 3,
     "metadata": {},
     "output_type": "execute_result"
    }
   ],
   "source": [
    "type(ts_first),ts_first, type(ts_second), ts_second, type(ts_third), ts_third, type(ts_fourth), ts_fourth"
   ]
  },
  {
   "cell_type": "code",
   "execution_count": 4,
   "metadata": {},
   "outputs": [
    {
     "data": {
      "text/plain": [
       "(2021, 1, 2, 9, 21, 20)"
      ]
     },
     "execution_count": 4,
     "metadata": {},
     "output_type": "execute_result"
    }
   ],
   "source": [
    "# 년, 월, 일, 시, 분, 초\n",
    "ts_second.year, ts_second.month, ts_second.day, ts_second.hour, ts_second.minute, ts_second.second"
   ]
  },
  {
   "cell_type": "code",
   "execution_count": 5,
   "metadata": {},
   "outputs": [
    {
     "data": {
      "text/plain": [
       "(5, 1)"
      ]
     },
     "execution_count": 5,
     "metadata": {},
     "output_type": "execute_result"
    }
   ],
   "source": [
    "ts_second.weekday(), ts_second.quarter"
   ]
  },
  {
   "cell_type": "code",
   "execution_count": null,
   "metadata": {},
   "outputs": [],
   "source": []
  },
  {
   "cell_type": "code",
   "execution_count": 6,
   "metadata": {},
   "outputs": [
    {
     "data": {
      "text/plain": [
       "Timestamp('2021-08-14 00:00:00')"
      ]
     },
     "execution_count": 6,
     "metadata": {},
     "output_type": "execute_result"
    }
   ],
   "source": [
    "day = 1628899200 / 60 / 60 / 24\n",
    "year = day / 365\n",
    "# print(year)\n",
    "pd.to_datetime(1628899200, unit='s') # 년도 변환"
   ]
  },
  {
   "cell_type": "markdown",
   "metadata": {},
   "source": [
    "#### timestamp 원하는 값으로 출력"
   ]
  },
  {
   "cell_type": "code",
   "execution_count": 7,
   "metadata": {},
   "outputs": [
    {
     "data": {
      "text/plain": [
       "(Timestamp('2021-01-02 09:21:20'), '2021 / 01 / 02 - 09 : 21 : 20')"
      ]
     },
     "execution_count": 7,
     "metadata": {},
     "output_type": "execute_result"
    }
   ],
   "source": [
    "# ts_third.strftime('%y / %m / %d') 대문자 풀네임 소문자 \n",
    "ts_third, ts_third.strftime('%Y / %m / %d - %H : %M : %S')"
   ]
  },
  {
   "cell_type": "markdown",
   "metadata": {},
   "source": [
    "### datedelta\n",
    "- 일시간 계산"
   ]
  },
  {
   "cell_type": "code",
   "execution_count": 8,
   "metadata": {},
   "outputs": [
    {
     "data": {
      "text/plain": [
       "(pandas._libs.tslibs.timedeltas.Timedelta, Timedelta('0 days 02:30:20'))"
      ]
     },
     "execution_count": 8,
     "metadata": {},
     "output_type": "execute_result"
    }
   ],
   "source": [
    "#td_first = pd.Timedelta(days=30) #날짜\n",
    "td_first = pd.Timedelta(hours=2, minutes=30, seconds=20) #시 분 초\n",
    "type(td_first),td_first"
   ]
  },
  {
   "cell_type": "code",
   "execution_count": 9,
   "metadata": {},
   "outputs": [
    {
     "data": {
      "text/plain": [
       "(pandas._libs.tslibs.timestamps.Timestamp,\n",
       " Timestamp('2021-01-02 11:51:40'),\n",
       " Timestamp('2021-01-02 09:21:20'))"
      ]
     },
     "execution_count": 9,
     "metadata": {},
     "output_type": "execute_result"
    }
   ],
   "source": [
    "ts_result_first = ts_second + td_first\n",
    "type(ts_result_first), ts_result_first, ts_second"
   ]
  },
  {
   "cell_type": "markdown",
   "metadata": {},
   "source": [
    "### 시계열 date 다루기"
   ]
  },
  {
   "cell_type": "code",
   "execution_count": 10,
   "metadata": {},
   "outputs": [
    {
     "data": {
      "text/plain": [
       "str"
      ]
     },
     "execution_count": 10,
     "metadata": {},
     "output_type": "execute_result"
    }
   ],
   "source": [
    "candidates = ['2024-11-01','2024-11-02','2024-11-03','2024-11-04']\n",
    "type(candidates[0])"
   ]
  },
  {
   "cell_type": "code",
   "execution_count": 11,
   "metadata": {},
   "outputs": [
    {
     "data": {
      "text/plain": [
       "(pandas.core.indexes.datetimes.DatetimeIndex,\n",
       " DatetimeIndex(['2024-11-01', '2024-11-02', '2024-11-03', '2024-11-04'], dtype='datetime64[ns]', freq=None))"
      ]
     },
     "execution_count": 11,
     "metadata": {},
     "output_type": "execute_result"
    }
   ],
   "source": [
    "dt_first = pd.to_datetime(candidates)\n",
    "type(dt_first), dt_first"
   ]
  },
  {
   "cell_type": "code",
   "execution_count": 12,
   "metadata": {},
   "outputs": [
    {
     "data": {
      "text/plain": [
       "(pandas._libs.tslibs.timestamps.Timestamp, Timestamp('2024-11-01 00:00:00'))"
      ]
     },
     "execution_count": 12,
     "metadata": {},
     "output_type": "execute_result"
    }
   ],
   "source": [
    "type(dt_first[0]), dt_first[0]"
   ]
  },
  {
   "cell_type": "code",
   "execution_count": 13,
   "metadata": {},
   "outputs": [
    {
     "data": {
      "text/plain": [
       "Index([4, 4, 4, 4], dtype='int32')"
      ]
     },
     "execution_count": 13,
     "metadata": {},
     "output_type": "execute_result"
    }
   ],
   "source": [
    "dt_first.quarter"
   ]
  },
  {
   "cell_type": "markdown",
   "metadata": {},
   "source": [
    "##### with data"
   ]
  },
  {
   "cell_type": "code",
   "execution_count": 14,
   "metadata": {},
   "outputs": [
    {
     "data": {
      "text/html": [
       "<div>\n",
       "<style scoped>\n",
       "    .dataframe tbody tr th:only-of-type {\n",
       "        vertical-align: middle;\n",
       "    }\n",
       "\n",
       "    .dataframe tbody tr th {\n",
       "        vertical-align: top;\n",
       "    }\n",
       "\n",
       "    .dataframe thead th {\n",
       "        text-align: right;\n",
       "    }\n",
       "</style>\n",
       "<table border=\"1\" class=\"dataframe\">\n",
       "  <thead>\n",
       "    <tr style=\"text-align: right;\">\n",
       "      <th></th>\n",
       "      <th>시가</th>\n",
       "      <th>고가</th>\n",
       "      <th>저가</th>\n",
       "      <th>종가</th>\n",
       "    </tr>\n",
       "  </thead>\n",
       "  <tbody>\n",
       "    <tr>\n",
       "      <th>20200615</th>\n",
       "      <td>100</td>\n",
       "      <td>110</td>\n",
       "      <td>90</td>\n",
       "      <td>105</td>\n",
       "    </tr>\n",
       "    <tr>\n",
       "      <th>20200616</th>\n",
       "      <td>100</td>\n",
       "      <td>112</td>\n",
       "      <td>80</td>\n",
       "      <td>95</td>\n",
       "    </tr>\n",
       "    <tr>\n",
       "      <th>20200717</th>\n",
       "      <td>99</td>\n",
       "      <td>115</td>\n",
       "      <td>70</td>\n",
       "      <td>85</td>\n",
       "    </tr>\n",
       "    <tr>\n",
       "      <th>20200718</th>\n",
       "      <td>70</td>\n",
       "      <td>80</td>\n",
       "      <td>60</td>\n",
       "      <td>75</td>\n",
       "    </tr>\n",
       "    <tr>\n",
       "      <th>20200815</th>\n",
       "      <td>100</td>\n",
       "      <td>110</td>\n",
       "      <td>90</td>\n",
       "      <td>105</td>\n",
       "    </tr>\n",
       "    <tr>\n",
       "      <th>20200816</th>\n",
       "      <td>100</td>\n",
       "      <td>112</td>\n",
       "      <td>80</td>\n",
       "      <td>95</td>\n",
       "    </tr>\n",
       "    <tr>\n",
       "      <th>20200917</th>\n",
       "      <td>99</td>\n",
       "      <td>115</td>\n",
       "      <td>70</td>\n",
       "      <td>85</td>\n",
       "    </tr>\n",
       "    <tr>\n",
       "      <th>20200918</th>\n",
       "      <td>70</td>\n",
       "      <td>80</td>\n",
       "      <td>60</td>\n",
       "      <td>75</td>\n",
       "    </tr>\n",
       "  </tbody>\n",
       "</table>\n",
       "</div>"
      ],
      "text/plain": [
       "           시가   고가  저가   종가\n",
       "20200615  100  110  90  105\n",
       "20200616  100  112  80   95\n",
       "20200717   99  115  70   85\n",
       "20200718   70   80  60   75\n",
       "20200815  100  110  90  105\n",
       "20200816  100  112  80   95\n",
       "20200917   99  115  70   85\n",
       "20200918   70   80  60   75"
      ]
     },
     "execution_count": 14,
     "metadata": {},
     "output_type": "execute_result"
    }
   ],
   "source": [
    "data = [\n",
    "    {'시가': 100, '고가': 110, '저가': 90, '종가': 105}, \n",
    "    {'시가': 100, '고가': 112, '저가': 80, '종가':  95}, \n",
    "    {'시가':  99, '고가': 115, '저가': 70, '종가':  85}, \n",
    "    {'시가':  70, '고가':  80, '저가': 60, '종가':  75}, \n",
    "    {'시가': 100, '고가': 110, '저가': 90, '종가': 105}, \n",
    "    {'시가': 100, '고가': 112, '저가': 80, '종가':  95}, \n",
    "    {'시가':  99, '고가': 115, '저가': 70, '종가':  85}, \n",
    "    {'시가':  70, '고가':  80, '저가': 60, '종가':  75}, \n",
    "]\n",
    "indexes = ['20200615', '20200616', '20200717', '20200718'\n",
    "           ,'20200815', '20200816', '20200917', '20200918']\n",
    "df_first = pd.DataFrame(data, index=indexes)\n",
    "df_first"
   ]
  },
  {
   "cell_type": "code",
   "execution_count": 15,
   "metadata": {},
   "outputs": [
    {
     "data": {
      "text/plain": [
       "array([ True,  True,  True,  True,  True,  True,  True,  True])"
      ]
     },
     "execution_count": 15,
     "metadata": {},
     "output_type": "execute_result"
    }
   ],
   "source": [
    "# df_first.loc['202006']\n",
    "# conditions = df_first.index.str[:6] == '202006'\n",
    "conditions = df_first.index.str[:4] == '2020'\n",
    "conditions"
   ]
  },
  {
   "cell_type": "code",
   "execution_count": 16,
   "metadata": {},
   "outputs": [
    {
     "data": {
      "text/plain": [
       "Index(['20200615', '20200616', '20200717', '20200718', '20200815', '20200816',\n",
       "       '20200917', '20200918'],\n",
       "      dtype='object')"
      ]
     },
     "execution_count": 16,
     "metadata": {},
     "output_type": "execute_result"
    }
   ],
   "source": [
    "df_first.index"
   ]
  },
  {
   "cell_type": "code",
   "execution_count": 17,
   "metadata": {},
   "outputs": [
    {
     "data": {
      "text/plain": [
       "DatetimeIndex(['2020-06-15', '2020-06-16', '2020-07-17', '2020-07-18',\n",
       "               '2020-08-15', '2020-08-16', '2020-09-17', '2020-09-18'],\n",
       "              dtype='datetime64[ns]', freq=None)"
      ]
     },
     "execution_count": 17,
     "metadata": {},
     "output_type": "execute_result"
    }
   ],
   "source": [
    "df_first.index = pd.to_datetime(df_first.index)\n",
    "df_first.index"
   ]
  },
  {
   "cell_type": "code",
   "execution_count": 18,
   "metadata": {},
   "outputs": [
    {
     "data": {
      "text/html": [
       "<div>\n",
       "<style scoped>\n",
       "    .dataframe tbody tr th:only-of-type {\n",
       "        vertical-align: middle;\n",
       "    }\n",
       "\n",
       "    .dataframe tbody tr th {\n",
       "        vertical-align: top;\n",
       "    }\n",
       "\n",
       "    .dataframe thead th {\n",
       "        text-align: right;\n",
       "    }\n",
       "</style>\n",
       "<table border=\"1\" class=\"dataframe\">\n",
       "  <thead>\n",
       "    <tr style=\"text-align: right;\">\n",
       "      <th></th>\n",
       "      <th>시가</th>\n",
       "      <th>고가</th>\n",
       "      <th>저가</th>\n",
       "      <th>종가</th>\n",
       "    </tr>\n",
       "  </thead>\n",
       "  <tbody>\n",
       "    <tr>\n",
       "      <th>2020-06-15</th>\n",
       "      <td>100</td>\n",
       "      <td>110</td>\n",
       "      <td>90</td>\n",
       "      <td>105</td>\n",
       "    </tr>\n",
       "    <tr>\n",
       "      <th>2020-06-16</th>\n",
       "      <td>100</td>\n",
       "      <td>112</td>\n",
       "      <td>80</td>\n",
       "      <td>95</td>\n",
       "    </tr>\n",
       "    <tr>\n",
       "      <th>2020-07-17</th>\n",
       "      <td>99</td>\n",
       "      <td>115</td>\n",
       "      <td>70</td>\n",
       "      <td>85</td>\n",
       "    </tr>\n",
       "    <tr>\n",
       "      <th>2020-07-18</th>\n",
       "      <td>70</td>\n",
       "      <td>80</td>\n",
       "      <td>60</td>\n",
       "      <td>75</td>\n",
       "    </tr>\n",
       "    <tr>\n",
       "      <th>2020-08-15</th>\n",
       "      <td>100</td>\n",
       "      <td>110</td>\n",
       "      <td>90</td>\n",
       "      <td>105</td>\n",
       "    </tr>\n",
       "    <tr>\n",
       "      <th>2020-08-16</th>\n",
       "      <td>100</td>\n",
       "      <td>112</td>\n",
       "      <td>80</td>\n",
       "      <td>95</td>\n",
       "    </tr>\n",
       "    <tr>\n",
       "      <th>2020-09-17</th>\n",
       "      <td>99</td>\n",
       "      <td>115</td>\n",
       "      <td>70</td>\n",
       "      <td>85</td>\n",
       "    </tr>\n",
       "    <tr>\n",
       "      <th>2020-09-18</th>\n",
       "      <td>70</td>\n",
       "      <td>80</td>\n",
       "      <td>60</td>\n",
       "      <td>75</td>\n",
       "    </tr>\n",
       "  </tbody>\n",
       "</table>\n",
       "</div>"
      ],
      "text/plain": [
       "             시가   고가  저가   종가\n",
       "2020-06-15  100  110  90  105\n",
       "2020-06-16  100  112  80   95\n",
       "2020-07-17   99  115  70   85\n",
       "2020-07-18   70   80  60   75\n",
       "2020-08-15  100  110  90  105\n",
       "2020-08-16  100  112  80   95\n",
       "2020-09-17   99  115  70   85\n",
       "2020-09-18   70   80  60   75"
      ]
     },
     "execution_count": 18,
     "metadata": {},
     "output_type": "execute_result"
    }
   ],
   "source": [
    "df_first"
   ]
  },
  {
   "cell_type": "code",
   "execution_count": 19,
   "metadata": {},
   "outputs": [
    {
     "data": {
      "text/plain": [
       "Timestamp('2020-06-15 00:00:00')"
      ]
     },
     "execution_count": 19,
     "metadata": {},
     "output_type": "execute_result"
    }
   ],
   "source": [
    "df_first.index[0]"
   ]
  },
  {
   "cell_type": "code",
   "execution_count": 20,
   "metadata": {},
   "outputs": [
    {
     "data": {
      "text/plain": [
       "Index([2, 2, 3, 3, 3, 3, 3, 3], dtype='int32')"
      ]
     },
     "execution_count": 20,
     "metadata": {},
     "output_type": "execute_result"
    }
   ],
   "source": [
    "df_first.index.quarter"
   ]
  },
  {
   "cell_type": "code",
   "execution_count": 21,
   "metadata": {},
   "outputs": [
    {
     "data": {
      "text/plain": [
       "2020-06-15    100\n",
       "2020-06-16    100\n",
       "2020-07-17     99\n",
       "2020-07-18     70\n",
       "2020-08-15    100\n",
       "2020-08-16    100\n",
       "2020-09-17     99\n",
       "2020-09-18     70\n",
       "Name: 시가, dtype: int64"
      ]
     },
     "execution_count": 21,
     "metadata": {},
     "output_type": "execute_result"
    }
   ],
   "source": [
    "# df_first.loc['2020-07'] #인덱스\n",
    "# df_first.loc['2020-07', '시가'] #인덱스와 컬럼\n",
    "df_first.loc['2020', '시가'] #인덱스 전체와 컬럼"
   ]
  },
  {
   "cell_type": "markdown",
   "metadata": {},
   "source": [
    "#### 컬럼에서 date 다루기"
   ]
  },
  {
   "cell_type": "code",
   "execution_count": 22,
   "metadata": {},
   "outputs": [
    {
     "data": {
      "text/html": [
       "<div>\n",
       "<style scoped>\n",
       "    .dataframe tbody tr th:only-of-type {\n",
       "        vertical-align: middle;\n",
       "    }\n",
       "\n",
       "    .dataframe tbody tr th {\n",
       "        vertical-align: top;\n",
       "    }\n",
       "\n",
       "    .dataframe thead th {\n",
       "        text-align: right;\n",
       "    }\n",
       "</style>\n",
       "<table border=\"1\" class=\"dataframe\">\n",
       "  <thead>\n",
       "    <tr style=\"text-align: right;\">\n",
       "      <th></th>\n",
       "      <th>시가</th>\n",
       "      <th>고가</th>\n",
       "      <th>저가</th>\n",
       "      <th>종가</th>\n",
       "      <th>datetimes</th>\n",
       "    </tr>\n",
       "  </thead>\n",
       "  <tbody>\n",
       "    <tr>\n",
       "      <th>2020-06-15</th>\n",
       "      <td>100</td>\n",
       "      <td>110</td>\n",
       "      <td>90</td>\n",
       "      <td>105</td>\n",
       "      <td>2020-06-15</td>\n",
       "    </tr>\n",
       "    <tr>\n",
       "      <th>2020-06-16</th>\n",
       "      <td>100</td>\n",
       "      <td>112</td>\n",
       "      <td>80</td>\n",
       "      <td>95</td>\n",
       "      <td>2020-06-16</td>\n",
       "    </tr>\n",
       "    <tr>\n",
       "      <th>2020-07-17</th>\n",
       "      <td>99</td>\n",
       "      <td>115</td>\n",
       "      <td>70</td>\n",
       "      <td>85</td>\n",
       "      <td>2020-07-17</td>\n",
       "    </tr>\n",
       "    <tr>\n",
       "      <th>2020-07-18</th>\n",
       "      <td>70</td>\n",
       "      <td>80</td>\n",
       "      <td>60</td>\n",
       "      <td>75</td>\n",
       "      <td>2020-07-18</td>\n",
       "    </tr>\n",
       "    <tr>\n",
       "      <th>2020-08-15</th>\n",
       "      <td>100</td>\n",
       "      <td>110</td>\n",
       "      <td>90</td>\n",
       "      <td>105</td>\n",
       "      <td>2020-08-15</td>\n",
       "    </tr>\n",
       "    <tr>\n",
       "      <th>2020-08-16</th>\n",
       "      <td>100</td>\n",
       "      <td>112</td>\n",
       "      <td>80</td>\n",
       "      <td>95</td>\n",
       "      <td>2020-08-16</td>\n",
       "    </tr>\n",
       "    <tr>\n",
       "      <th>2020-09-17</th>\n",
       "      <td>99</td>\n",
       "      <td>115</td>\n",
       "      <td>70</td>\n",
       "      <td>85</td>\n",
       "      <td>2020-09-17</td>\n",
       "    </tr>\n",
       "    <tr>\n",
       "      <th>2020-09-18</th>\n",
       "      <td>70</td>\n",
       "      <td>80</td>\n",
       "      <td>60</td>\n",
       "      <td>75</td>\n",
       "      <td>2020-09-18</td>\n",
       "    </tr>\n",
       "  </tbody>\n",
       "</table>\n",
       "</div>"
      ],
      "text/plain": [
       "             시가   고가  저가   종가  datetimes\n",
       "2020-06-15  100  110  90  105 2020-06-15\n",
       "2020-06-16  100  112  80   95 2020-06-16\n",
       "2020-07-17   99  115  70   85 2020-07-17\n",
       "2020-07-18   70   80  60   75 2020-07-18\n",
       "2020-08-15  100  110  90  105 2020-08-15\n",
       "2020-08-16  100  112  80   95 2020-08-16\n",
       "2020-09-17   99  115  70   85 2020-09-17\n",
       "2020-09-18   70   80  60   75 2020-09-18"
      ]
     },
     "execution_count": 22,
     "metadata": {},
     "output_type": "execute_result"
    }
   ],
   "source": [
    "df_first['datetimes'] = df_first.index\n",
    "df_first"
   ]
  },
  {
   "cell_type": "code",
   "execution_count": 23,
   "metadata": {},
   "outputs": [
    {
     "name": "stdout",
     "output_type": "stream",
     "text": [
      "<class 'pandas.core.frame.DataFrame'>\n",
      "DatetimeIndex: 8 entries, 2020-06-15 to 2020-09-18\n",
      "Data columns (total 5 columns):\n",
      " #   Column     Non-Null Count  Dtype         \n",
      "---  ------     --------------  -----         \n",
      " 0   시가         8 non-null      int64         \n",
      " 1   고가         8 non-null      int64         \n",
      " 2   저가         8 non-null      int64         \n",
      " 3   종가         8 non-null      int64         \n",
      " 4   datetimes  8 non-null      datetime64[ns]\n",
      "dtypes: datetime64[ns](1), int64(4)\n",
      "memory usage: 384.0 bytes\n"
     ]
    }
   ],
   "source": [
    "df_first.info()"
   ]
  },
  {
   "cell_type": "code",
   "execution_count": 24,
   "metadata": {},
   "outputs": [
    {
     "data": {
      "text/plain": [
       "2020-06-15   2020-06-15\n",
       "2020-06-16   2020-06-16\n",
       "2020-07-17   2020-07-17\n",
       "2020-07-18   2020-07-18\n",
       "2020-08-15   2020-08-15\n",
       "2020-08-16   2020-08-16\n",
       "2020-09-17   2020-09-17\n",
       "2020-09-18   2020-09-18\n",
       "Name: datetimes, dtype: datetime64[ns]"
      ]
     },
     "execution_count": 24,
     "metadata": {},
     "output_type": "execute_result"
    }
   ],
   "source": [
    "# df_first['datetimes'].dt.year #일부를 가져올 때는 dt 를 넣기\n",
    "df_first['datetimes'] #전체를 가져올때"
   ]
  },
  {
   "cell_type": "code",
   "execution_count": 25,
   "metadata": {},
   "outputs": [],
   "source": [
    "# df_first['시가']"
   ]
  },
  {
   "cell_type": "code",
   "execution_count": null,
   "metadata": {},
   "outputs": [],
   "source": []
  }
 ],
 "metadata": {
  "kernelspec": {
   "display_name": "Python 3",
   "language": "python",
   "name": "python3"
  },
  "language_info": {
   "codemirror_mode": {
    "name": "ipython",
    "version": 3
   },
   "file_extension": ".py",
   "mimetype": "text/x-python",
   "name": "python",
   "nbconvert_exporter": "python",
   "pygments_lexer": "ipython3",
   "version": "3.11.11"
  }
 },
 "nbformat": 4,
 "nbformat_minor": 2
}
