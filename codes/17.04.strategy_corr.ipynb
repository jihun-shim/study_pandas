{
 "cells": [
  {
   "cell_type": "markdown",
   "metadata": {},
   "source": [
    "## 상관관계\n",
    "- 두 변수간 관계성 강도 측정 통계지표\n",
    "- -1 < 0 < 1 (기준 : 0.5)\n",
    "    * 1 : 양에 관계로 깊다\n",
    "    * 0 : 관계 없다\n",
    "    * -1 : 음에 관계로 있다."
   ]
  },
  {
   "cell_type": "markdown",
   "metadata": {},
   "source": [
    "### 간단한 예정"
   ]
  },
  {
   "cell_type": "code",
   "execution_count": 59,
   "metadata": {},
   "outputs": [
    {
     "data": {
      "text/html": [
       "<div>\n",
       "<style scoped>\n",
       "    .dataframe tbody tr th:only-of-type {\n",
       "        vertical-align: middle;\n",
       "    }\n",
       "\n",
       "    .dataframe tbody tr th {\n",
       "        vertical-align: top;\n",
       "    }\n",
       "\n",
       "    .dataframe thead th {\n",
       "        text-align: right;\n",
       "    }\n",
       "</style>\n",
       "<table border=\"1\" class=\"dataframe\">\n",
       "  <thead>\n",
       "    <tr style=\"text-align: right;\">\n",
       "      <th></th>\n",
       "      <th>Stock_A</th>\n",
       "      <th>Stock_B</th>\n",
       "    </tr>\n",
       "  </thead>\n",
       "  <tbody>\n",
       "    <tr>\n",
       "      <th>0</th>\n",
       "      <td>0.02</td>\n",
       "      <td>0.01</td>\n",
       "    </tr>\n",
       "    <tr>\n",
       "      <th>1</th>\n",
       "      <td>0.01</td>\n",
       "      <td>0.03</td>\n",
       "    </tr>\n",
       "    <tr>\n",
       "      <th>2</th>\n",
       "      <td>-0.01</td>\n",
       "      <td>-0.02</td>\n",
       "    </tr>\n",
       "    <tr>\n",
       "      <th>3</th>\n",
       "      <td>0.03</td>\n",
       "      <td>0.04</td>\n",
       "    </tr>\n",
       "    <tr>\n",
       "      <th>4</th>\n",
       "      <td>-0.02</td>\n",
       "      <td>-0.01</td>\n",
       "    </tr>\n",
       "  </tbody>\n",
       "</table>\n",
       "</div>"
      ],
      "text/plain": [
       "   Stock_A  Stock_B\n",
       "0     0.02     0.01\n",
       "1     0.01     0.03\n",
       "2    -0.01    -0.02\n",
       "3     0.03     0.04\n",
       "4    -0.02    -0.01"
      ]
     },
     "execution_count": 59,
     "metadata": {},
     "output_type": "execute_result"
    }
   ],
   "source": [
    "import pandas as pd\n",
    "\n",
    "# 두 변수 데이터 (예: 주식 A와 주식 B의 일간 수익률) \n",
    "\n",
    "data = { 'Stock_A': [0.02, 0.01, -0.01, 0.03, -0.02], 'Stock_B': [0.01, 0.03, -0.02, 0.04, -0.01] }\n",
    "\n",
    "df_first = pd.DataFrame(data)\n",
    "df_first"
   ]
  },
  {
   "cell_type": "code",
   "execution_count": 60,
   "metadata": {},
   "outputs": [
    {
     "name": "stdout",
     "output_type": "stream",
     "text": [
      "<class 'pandas.core.frame.DataFrame'>\n",
      "RangeIndex: 5 entries, 0 to 4\n",
      "Data columns (total 2 columns):\n",
      " #   Column   Non-Null Count  Dtype  \n",
      "---  ------   --------------  -----  \n",
      " 0   Stock_A  5 non-null      float64\n",
      " 1   Stock_B  5 non-null      float64\n",
      "dtypes: float64(2)\n",
      "memory usage: 212.0 bytes\n"
     ]
    }
   ],
   "source": [
    "df_first.info()"
   ]
  },
  {
   "cell_type": "code",
   "execution_count": 61,
   "metadata": {},
   "outputs": [
    {
     "data": {
      "text/html": [
       "<div>\n",
       "<style scoped>\n",
       "    .dataframe tbody tr th:only-of-type {\n",
       "        vertical-align: middle;\n",
       "    }\n",
       "\n",
       "    .dataframe tbody tr th {\n",
       "        vertical-align: top;\n",
       "    }\n",
       "\n",
       "    .dataframe thead th {\n",
       "        text-align: right;\n",
       "    }\n",
       "</style>\n",
       "<table border=\"1\" class=\"dataframe\">\n",
       "  <thead>\n",
       "    <tr style=\"text-align: right;\">\n",
       "      <th></th>\n",
       "      <th>Stock_A</th>\n",
       "      <th>Stock_B</th>\n",
       "    </tr>\n",
       "  </thead>\n",
       "  <tbody>\n",
       "    <tr>\n",
       "      <th>Stock_A</th>\n",
       "      <td>1.00000</td>\n",
       "      <td>0.85118</td>\n",
       "    </tr>\n",
       "    <tr>\n",
       "      <th>Stock_B</th>\n",
       "      <td>0.85118</td>\n",
       "      <td>1.00000</td>\n",
       "    </tr>\n",
       "  </tbody>\n",
       "</table>\n",
       "</div>"
      ],
      "text/plain": [
       "         Stock_A  Stock_B\n",
       "Stock_A  1.00000  0.85118\n",
       "Stock_B  0.85118  1.00000"
      ]
     },
     "execution_count": 61,
     "metadata": {},
     "output_type": "execute_result"
    }
   ],
   "source": [
    "df_first.corr()"
   ]
  },
  {
   "cell_type": "code",
   "execution_count": 62,
   "metadata": {},
   "outputs": [
    {
     "data": {
      "image/png": "[encoded data removed]",
      "text/plain": [
       "<Figure size 640x480 with 1 Axes>"
      ]
     },
     "metadata": {},
     "output_type": "display_data"
    }
   ],
   "source": [
    "import matplotlib.pyplot as plt\n",
    "\n",
    "plt.scatter(df_first['Stock_A'], df_first['Stock_B'])\n",
    "plt.show()"
   ]
  },
  {
   "cell_type": "markdown",
   "metadata": {},
   "source": [
    "### 실 주식 데이터 상관관계 확인"
   ]
  },
  {
   "cell_type": "code",
   "execution_count": 63,
   "metadata": {},
   "outputs": [],
   "source": [
    "# 개별 종목 데이터: 국내외 심볼 혼합 \n",
    "stocks = { \n",
    "          'S&P500': 'S&P500', # S&P500\n",
    "          'AAPL': 'Apple (US)', # 애플 (미국)\n",
    "          'MSFT': 'Microsoft (US)', # 마이크로소프트 (미국)\n",
    "          '005930': 'Samsung (KR)', # 삼성전자 (한국)\n",
    "          '000660': 'SK Hynix (KR)'   # SK하이닉스 (한국) \n",
    "          }"
   ]
  },
  {
   "cell_type": "code",
   "execution_count": 64,
   "metadata": {},
   "outputs": [],
   "source": [
    "import FinanceDataReader as fdr"
   ]
  },
  {
   "cell_type": "code",
   "execution_count": 65,
   "metadata": {},
   "outputs": [],
   "source": [
    "start_day ='2023'\n",
    "df_sp500 = fdr.DataReader('S&P500', start_day)\n",
    "df_msft = fdr.DataReader('MSFT', start_day)\n",
    "df_skhynix = fdr.DataReader('000660', start_day)"
   ]
  },
  {
   "cell_type": "code",
   "execution_count": 66,
   "metadata": {},
   "outputs": [
    {
     "name": "stdout",
     "output_type": "stream",
     "text": [
      "<class 'pandas.core.frame.DataFrame'>\n",
      "DatetimeIndex: 488 entries, 2023-01-02 to 2024-12-27\n",
      "Data columns (total 6 columns):\n",
      " #   Column  Non-Null Count  Dtype  \n",
      "---  ------  --------------  -----  \n",
      " 0   Open    488 non-null    int64  \n",
      " 1   High    488 non-null    int64  \n",
      " 2   Low     488 non-null    int64  \n",
      " 3   Close   488 non-null    int64  \n",
      " 4   Volume  488 non-null    int64  \n",
      " 5   Change  488 non-null    float64\n",
      "dtypes: float64(1), int64(5)\n",
      "memory usage: 26.7 KB\n"
     ]
    }
   ],
   "source": [
    "# 각 정보확인\n",
    "# df_sp500.info()   # 499\n",
    "# df_msft.info()    # 499\n",
    "df_skhynix.info() # 488"
   ]
  },
  {
   "cell_type": "code",
   "execution_count": 67,
   "metadata": {},
   "outputs": [],
   "source": [
    "# df_sp500[['Close']] # Dataframe\n",
    "df_sp500_close = df_sp500[['Close']].rename(columns={'Close':'SP500'}) # 새로운 이름지정 할때 rename(columns={ : }) 사용\n",
    "# df_sp500_close"
   ]
  },
  {
   "cell_type": "code",
   "execution_count": 68,
   "metadata": {},
   "outputs": [],
   "source": [
    "df_msft_close = df_msft[['Close']].rename(columns={'Close':'MSFT'})"
   ]
  },
  {
   "cell_type": "code",
   "execution_count": 69,
   "metadata": {},
   "outputs": [],
   "source": [
    "df_skhynix_close = df_skhynix[['Close']].rename(columns={'Close':'SKhynix'})"
   ]
  },
  {
   "cell_type": "code",
   "execution_count": 70,
   "metadata": {},
   "outputs": [],
   "source": [
    "# 도중 추가해서 비교하기 위해 추가가\n",
    "df_samsung = fdr.DataReader('005930', start_day)\n",
    "df_samsung_close = df_samsung[['Close']].rename(columns={'Close':'Samsung'})"
   ]
  },
  {
   "cell_type": "code",
   "execution_count": 71,
   "metadata": {},
   "outputs": [
    {
     "name": "stdout",
     "output_type": "stream",
     "text": [
      "<class 'pandas.core.frame.DataFrame'>\n",
      "DatetimeIndex: 516 entries, 2023-01-02 to 2024-12-27\n",
      "Data columns (total 4 columns):\n",
      " #   Column   Non-Null Count  Dtype  \n",
      "---  ------   --------------  -----  \n",
      " 0   SP500    499 non-null    float64\n",
      " 1   MSFT     499 non-null    float64\n",
      " 2   SKhynix  488 non-null    float64\n",
      " 3   Samsung  488 non-null    float64\n",
      "dtypes: float64(4)\n",
      "memory usage: 20.2 KB\n"
     ]
    }
   ],
   "source": [
    "df_corr = pd.concat([df_sp500_close, df_msft_close, df_skhynix_close,df_samsung_close], axis = 1)\n",
    "df_corr.info()"
   ]
  },
  {
   "cell_type": "code",
   "execution_count": 72,
   "metadata": {},
   "outputs": [],
   "source": [
    "df_corr.dropna(inplace=True)"
   ]
  },
  {
   "cell_type": "code",
   "execution_count": 73,
   "metadata": {},
   "outputs": [
    {
     "name": "stdout",
     "output_type": "stream",
     "text": [
      "<class 'pandas.core.frame.DataFrame'>\n",
      "DatetimeIndex: 471 entries, 2023-01-03 to 2024-12-26\n",
      "Data columns (total 4 columns):\n",
      " #   Column   Non-Null Count  Dtype  \n",
      "---  ------   --------------  -----  \n",
      " 0   SP500    471 non-null    float64\n",
      " 1   MSFT     471 non-null    float64\n",
      " 2   SKhynix  471 non-null    float64\n",
      " 3   Samsung  471 non-null    float64\n",
      "dtypes: float64(4)\n",
      "memory usage: 18.4 KB\n"
     ]
    }
   ],
   "source": [
    "df_corr.info()"
   ]
  },
  {
   "cell_type": "code",
   "execution_count": 75,
   "metadata": {},
   "outputs": [
    {
     "data": {
      "text/html": [
       "<div>\n",
       "<style scoped>\n",
       "    .dataframe tbody tr th:only-of-type {\n",
       "        vertical-align: middle;\n",
       "    }\n",
       "\n",
       "    .dataframe tbody tr th {\n",
       "        vertical-align: top;\n",
       "    }\n",
       "\n",
       "    .dataframe thead th {\n",
       "        text-align: right;\n",
       "    }\n",
       "</style>\n",
       "<table border=\"1\" class=\"dataframe\">\n",
       "  <thead>\n",
       "    <tr style=\"text-align: right;\">\n",
       "      <th></th>\n",
       "      <th>SP500</th>\n",
       "      <th>MSFT</th>\n",
       "      <th>SKhynix</th>\n",
       "      <th>Samsung</th>\n",
       "    </tr>\n",
       "  </thead>\n",
       "  <tbody>\n",
       "    <tr>\n",
       "      <th>SP500</th>\n",
       "      <td>1.000000</td>\n",
       "      <td>0.912200</td>\n",
       "      <td>0.889020</td>\n",
       "      <td>0.084073</td>\n",
       "    </tr>\n",
       "    <tr>\n",
       "      <th>MSFT</th>\n",
       "      <td>0.912200</td>\n",
       "      <td>1.000000</td>\n",
       "      <td>0.920752</td>\n",
       "      <td>0.390099</td>\n",
       "    </tr>\n",
       "    <tr>\n",
       "      <th>SKhynix</th>\n",
       "      <td>0.889020</td>\n",
       "      <td>0.920752</td>\n",
       "      <td>1.000000</td>\n",
       "      <td>0.427682</td>\n",
       "    </tr>\n",
       "    <tr>\n",
       "      <th>Samsung</th>\n",
       "      <td>0.084073</td>\n",
       "      <td>0.390099</td>\n",
       "      <td>0.427682</td>\n",
       "      <td>1.000000</td>\n",
       "    </tr>\n",
       "  </tbody>\n",
       "</table>\n",
       "</div>"
      ],
      "text/plain": [
       "            SP500      MSFT   SKhynix   Samsung\n",
       "SP500    1.000000  0.912200  0.889020  0.084073\n",
       "MSFT     0.912200  1.000000  0.920752  0.390099\n",
       "SKhynix  0.889020  0.920752  1.000000  0.427682\n",
       "Samsung  0.084073  0.390099  0.427682  1.000000"
      ]
     },
     "execution_count": 75,
     "metadata": {},
     "output_type": "execute_result"
    }
   ],
   "source": [
    "correlation_matrix = df_corr.corr()\n",
    "correlation_matrix"
   ]
  },
  {
   "cell_type": "code",
   "execution_count": 78,
   "metadata": {},
   "outputs": [
    {
     "data": {
      "image/png": "[encoded data removed]",
      "text/plain": [
       "<Figure size 640x480 with 2 Axes>"
      ]
     },
     "metadata": {},
     "output_type": "display_data"
    }
   ],
   "source": [
    "import seaborn as sns\n",
    "\n",
    "# sns.heatmap(correlation_matrix)\n",
    "sns.heatmap(correlation_matrix, annot=True, fmt = '.2f') \n",
    "\n",
    "plt.show()"
   ]
  },
  {
   "cell_type": "code",
   "execution_count": null,
   "metadata": {},
   "outputs": [],
   "source": []
  }
 ],
 "metadata": {
  "kernelspec": {
   "display_name": "Python 3",
   "language": "python",
   "name": "python3"
  },
  "language_info": {
   "codemirror_mode": {
    "name": "ipython",
    "version": 3
   },
   "file_extension": ".py",
   "mimetype": "text/x-python",
   "name": "python",
   "nbconvert_exporter": "python",
   "pygments_lexer": "ipython3",
   "version": "3.11.11"
  }
 },
 "nbformat": 4,
 "nbformat_minor": 2
}
