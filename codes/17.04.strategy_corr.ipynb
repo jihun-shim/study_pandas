{
 "cells": [
  {
   "cell_type": "markdown",
   "metadata": {},
   "source": [
    "## 상관관계\n",
    "- 두 변수간 관계성 강도 측정 통계지표\n",
    "- -1 < 0 < 1 (기준 : 0.5)\n",
    "    * 1 : 양에 관계로 깊다\n",
    "    * 0 : 관계 없다\n",
    "    * -1 : 음에 관계로 있다."
   ]
  },
  {
   "cell_type": "markdown",
   "metadata": {},
   "source": [
    "### 간단한 예정"
   ]
  },
  {
   "cell_type": "code",
   "execution_count": 1,
   "metadata": {},
   "outputs": [
    {
     "data": {
      "text/html": [
       "<div>\n",
       "<style scoped>\n",
       "    .dataframe tbody tr th:only-of-type {\n",
       "        vertical-align: middle;\n",
       "    }\n",
       "\n",
       "    .dataframe tbody tr th {\n",
       "        vertical-align: top;\n",
       "    }\n",
       "\n",
       "    .dataframe thead th {\n",
       "        text-align: right;\n",
       "    }\n",
       "</style>\n",
       "<table border=\"1\" class=\"dataframe\">\n",
       "  <thead>\n",
       "    <tr style=\"text-align: right;\">\n",
       "      <th></th>\n",
       "      <th>Stock_A</th>\n",
       "      <th>Stock_B</th>\n",
       "    </tr>\n",
       "  </thead>\n",
       "  <tbody>\n",
       "    <tr>\n",
       "      <th>0</th>\n",
       "      <td>0.02</td>\n",
       "      <td>0.01</td>\n",
       "    </tr>\n",
       "    <tr>\n",
       "      <th>1</th>\n",
       "      <td>0.01</td>\n",
       "      <td>0.03</td>\n",
       "    </tr>\n",
       "    <tr>\n",
       "      <th>2</th>\n",
       "      <td>-0.01</td>\n",
       "      <td>-0.02</td>\n",
       "    </tr>\n",
       "    <tr>\n",
       "      <th>3</th>\n",
       "      <td>0.03</td>\n",
       "      <td>0.04</td>\n",
       "    </tr>\n",
       "    <tr>\n",
       "      <th>4</th>\n",
       "      <td>-0.02</td>\n",
       "      <td>-0.01</td>\n",
       "    </tr>\n",
       "  </tbody>\n",
       "</table>\n",
       "</div>"
      ],
      "text/plain": [
       "   Stock_A  Stock_B\n",
       "0     0.02     0.01\n",
       "1     0.01     0.03\n",
       "2    -0.01    -0.02\n",
       "3     0.03     0.04\n",
       "4    -0.02    -0.01"
      ]
     },
     "execution_count": 1,
     "metadata": {},
     "output_type": "execute_result"
    }
   ],
   "source": [
    "import pandas as pd\n",
    "\n",
    "# 두 변수 데이터 (예: 주식 A와 주식 B의 일간 수익률) \n",
    "\n",
    "data = { 'Stock_A': [0.02, 0.01, -0.01, 0.03, -0.02], 'Stock_B': [0.01, 0.03, -0.02, 0.04, -0.01] }\n",
    "\n",
    "df_first = pd.DataFrame(data)\n",
    "df_first"
   ]
  },
  {
   "cell_type": "code",
   "execution_count": 2,
   "metadata": {},
   "outputs": [
    {
     "name": "stdout",
     "output_type": "stream",
     "text": [
      "<class 'pandas.core.frame.DataFrame'>\n",
      "RangeIndex: 5 entries, 0 to 4\n",
      "Data columns (total 2 columns):\n",
      " #   Column   Non-Null Count  Dtype  \n",
      "---  ------   --------------  -----  \n",
      " 0   Stock_A  5 non-null      float64\n",
      " 1   Stock_B  5 non-null      float64\n",
      "dtypes: float64(2)\n",
      "memory usage: 212.0 bytes\n"
     ]
    }
   ],
   "source": [
    "df_first.info()"
   ]
  },
  {
   "cell_type": "code",
   "execution_count": 3,
   "metadata": {},
   "outputs": [
    {
     "data": {
      "text/html": [
       "<div>\n",
       "<style scoped>\n",
       "    .dataframe tbody tr th:only-of-type {\n",
       "        vertical-align: middle;\n",
       "    }\n",
       "\n",
       "    .dataframe tbody tr th {\n",
       "        vertical-align: top;\n",
       "    }\n",
       "\n",
       "    .dataframe thead th {\n",
       "        text-align: right;\n",
       "    }\n",
       "</style>\n",
       "<table border=\"1\" class=\"dataframe\">\n",
       "  <thead>\n",
       "    <tr style=\"text-align: right;\">\n",
       "      <th></th>\n",
       "      <th>Stock_A</th>\n",
       "      <th>Stock_B</th>\n",
       "    </tr>\n",
       "  </thead>\n",
       "  <tbody>\n",
       "    <tr>\n",
       "      <th>Stock_A</th>\n",
       "      <td>1.00000</td>\n",
       "      <td>0.85118</td>\n",
       "    </tr>\n",
       "    <tr>\n",
       "      <th>Stock_B</th>\n",
       "      <td>0.85118</td>\n",
       "      <td>1.00000</td>\n",
       "    </tr>\n",
       "  </tbody>\n",
       "</table>\n",
       "</div>"
      ],
      "text/plain": [
       "         Stock_A  Stock_B\n",
       "Stock_A  1.00000  0.85118\n",
       "Stock_B  0.85118  1.00000"
      ]
     },
     "execution_count": 3,
     "metadata": {},
     "output_type": "execute_result"
    }
   ],
   "source": [
    "df_first.corr()"
   ]
  },
  {
   "cell_type": "code",
   "execution_count": 4,
   "metadata": {},
   "outputs": [
    {
     "data": {
      "image/png": "[encoded data removed]",
      "text/plain": [
       "<Figure size 640x480 with 1 Axes>"
      ]
     },
     "metadata": {},
     "output_type": "display_data"
    }
   ],
   "source": [
    "import matplotlib.pyplot as plt\n",
    "\n",
    "plt.scatter(df_first['Stock_A'], df_first['Stock_B'])\n",
    "plt.show()"
   ]
  },
  {
   "cell_type": "markdown",
   "metadata": {},
   "source": [
    "### 실 주식 데이터 상관관계 확인"
   ]
  },
  {
   "cell_type": "code",
   "execution_count": 5,
   "metadata": {},
   "outputs": [],
   "source": [
    "# 개별 종목 데이터: 국내외 심볼 혼합 \n",
    "stocks = { \n",
    "          'S&P500': 'S&P500', # S&P500\n",
    "          'AAPL': 'Apple (US)', # 애플 (미국)\n",
    "          'MSFT': 'Microsoft (US)', # 마이크로소프트 (미국)\n",
    "          '005930': 'Samsung (KR)', # 삼성전자 (한국)\n",
    "          '000660': 'SK Hynix (KR)'   # SK하이닉스 (한국) \n",
    "          }"
   ]
  },
  {
   "cell_type": "code",
   "execution_count": 6,
   "metadata": {},
   "outputs": [],
   "source": [
    "import FinanceDataReader as fdr"
   ]
  },
  {
   "cell_type": "code",
   "execution_count": 7,
   "metadata": {},
   "outputs": [],
   "source": [
    "start_day ='2023'\n",
    "df_sp500 = fdr.DataReader('S&P500', start_day)\n",
    "df_msft = fdr.DataReader('MSFT', start_day)\n",
    "df_skhynix = fdr.DataReader('000660', start_day)"
   ]
  },
  {
   "cell_type": "code",
   "execution_count": 8,
   "metadata": {},
   "outputs": [
    {
     "name": "stdout",
     "output_type": "stream",
     "text": [
      "<class 'pandas.core.frame.DataFrame'>\n",
      "DatetimeIndex: 517 entries, 2023-01-02 to 2025-02-14\n",
      "Data columns (total 6 columns):\n",
      " #   Column  Non-Null Count  Dtype  \n",
      "---  ------  --------------  -----  \n",
      " 0   Open    517 non-null    int64  \n",
      " 1   High    517 non-null    int64  \n",
      " 2   Low     517 non-null    int64  \n",
      " 3   Close   517 non-null    int64  \n",
      " 4   Volume  517 non-null    int64  \n",
      " 5   Change  517 non-null    float64\n",
      "dtypes: float64(1), int64(5)\n",
      "memory usage: 28.3 KB\n"
     ]
    }
   ],
   "source": [
    "# 각 정보확인\n",
    "# df_sp500.info()   # 499\n",
    "# df_msft.info()    # 499\n",
    "df_skhynix.info() # 488"
   ]
  },
  {
   "cell_type": "code",
   "execution_count": 18,
   "metadata": {},
   "outputs": [
    {
     "data": {
      "text/html": [
       "<div>\n",
       "<style scoped>\n",
       "    .dataframe tbody tr th:only-of-type {\n",
       "        vertical-align: middle;\n",
       "    }\n",
       "\n",
       "    .dataframe tbody tr th {\n",
       "        vertical-align: top;\n",
       "    }\n",
       "\n",
       "    .dataframe thead th {\n",
       "        text-align: right;\n",
       "    }\n",
       "</style>\n",
       "<table border=\"1\" class=\"dataframe\">\n",
       "  <thead>\n",
       "    <tr style=\"text-align: right;\">\n",
       "      <th></th>\n",
       "      <th>SP500</th>\n",
       "    </tr>\n",
       "  </thead>\n",
       "  <tbody>\n",
       "    <tr>\n",
       "      <th>2023-01-03</th>\n",
       "      <td>3824.139893</td>\n",
       "    </tr>\n",
       "    <tr>\n",
       "      <th>2023-01-04</th>\n",
       "      <td>3852.969971</td>\n",
       "    </tr>\n",
       "    <tr>\n",
       "      <th>2023-01-05</th>\n",
       "      <td>3808.100098</td>\n",
       "    </tr>\n",
       "    <tr>\n",
       "      <th>2023-01-06</th>\n",
       "      <td>3895.080078</td>\n",
       "    </tr>\n",
       "    <tr>\n",
       "      <th>2023-01-09</th>\n",
       "      <td>3892.090088</td>\n",
       "    </tr>\n",
       "    <tr>\n",
       "      <th>...</th>\n",
       "      <td>...</td>\n",
       "    </tr>\n",
       "    <tr>\n",
       "      <th>2025-02-07</th>\n",
       "      <td>6025.990234</td>\n",
       "    </tr>\n",
       "    <tr>\n",
       "      <th>2025-02-10</th>\n",
       "      <td>6066.439941</td>\n",
       "    </tr>\n",
       "    <tr>\n",
       "      <th>2025-02-11</th>\n",
       "      <td>6068.500000</td>\n",
       "    </tr>\n",
       "    <tr>\n",
       "      <th>2025-02-12</th>\n",
       "      <td>6051.970215</td>\n",
       "    </tr>\n",
       "    <tr>\n",
       "      <th>2025-02-13</th>\n",
       "      <td>6115.069824</td>\n",
       "    </tr>\n",
       "  </tbody>\n",
       "</table>\n",
       "<p>531 rows × 1 columns</p>\n",
       "</div>"
      ],
      "text/plain": [
       "                  SP500\n",
       "2023-01-03  3824.139893\n",
       "2023-01-04  3852.969971\n",
       "2023-01-05  3808.100098\n",
       "2023-01-06  3895.080078\n",
       "2023-01-09  3892.090088\n",
       "...                 ...\n",
       "2025-02-07  6025.990234\n",
       "2025-02-10  6066.439941\n",
       "2025-02-11  6068.500000\n",
       "2025-02-12  6051.970215\n",
       "2025-02-13  6115.069824\n",
       "\n",
       "[531 rows x 1 columns]"
      ]
     },
     "execution_count": 18,
     "metadata": {},
     "output_type": "execute_result"
    }
   ],
   "source": [
    "# df_sp500[['Close']] # Dataframe\n",
    "df_sp500_close = df_sp500[['Close']].rename(columns={'Close':'SP500'}) # 새로운 이름지정 할때 rename(columns={ : }) 사용\n",
    "df_sp500_close"
   ]
  },
  {
   "cell_type": "code",
   "execution_count": 10,
   "metadata": {},
   "outputs": [],
   "source": [
    "df_msft_close = df_msft[['Close']].rename(columns={'Close':'MSFT'})"
   ]
  },
  {
   "cell_type": "code",
   "execution_count": 11,
   "metadata": {},
   "outputs": [],
   "source": [
    "df_skhynix_close = df_skhynix[['Close']].rename(columns={'Close':'SKhynix'})"
   ]
  },
  {
   "cell_type": "code",
   "execution_count": 12,
   "metadata": {},
   "outputs": [],
   "source": [
    "# 도중 추가해서 비교하기 위해 추가가\n",
    "df_samsung = fdr.DataReader('005930', start_day)\n",
    "df_samsung_close = df_samsung[['Close']].rename(columns={'Close':'Samsung'})"
   ]
  },
  {
   "cell_type": "code",
   "execution_count": 13,
   "metadata": {},
   "outputs": [
    {
     "name": "stdout",
     "output_type": "stream",
     "text": [
      "<class 'pandas.core.frame.DataFrame'>\n",
      "DatetimeIndex: 550 entries, 2023-01-02 to 2025-02-14\n",
      "Data columns (total 4 columns):\n",
      " #   Column   Non-Null Count  Dtype  \n",
      "---  ------   --------------  -----  \n",
      " 0   SP500    531 non-null    float64\n",
      " 1   MSFT     531 non-null    float64\n",
      " 2   SKhynix  517 non-null    float64\n",
      " 3   Samsung  517 non-null    float64\n",
      "dtypes: float64(4)\n",
      "memory usage: 21.5 KB\n"
     ]
    }
   ],
   "source": [
    "df_corr = pd.concat([df_sp500_close, df_msft_close, df_skhynix_close,df_samsung_close], axis = 1)\n",
    "df_corr.info()"
   ]
  },
  {
   "cell_type": "code",
   "execution_count": null,
   "metadata": {},
   "outputs": [],
   "source": [
    "df_corr.dropna(inplace=True)\n",
    "\n",
    "# inplace=True는 원본 DataFrame을 직접 수정하겠다는 의미"
   ]
  },
  {
   "cell_type": "code",
   "execution_count": 15,
   "metadata": {},
   "outputs": [
    {
     "name": "stdout",
     "output_type": "stream",
     "text": [
      "<class 'pandas.core.frame.DataFrame'>\n",
      "DatetimeIndex: 498 entries, 2023-01-03 to 2025-02-13\n",
      "Data columns (total 4 columns):\n",
      " #   Column   Non-Null Count  Dtype  \n",
      "---  ------   --------------  -----  \n",
      " 0   SP500    498 non-null    float64\n",
      " 1   MSFT     498 non-null    float64\n",
      " 2   SKhynix  498 non-null    float64\n",
      " 3   Samsung  498 non-null    float64\n",
      "dtypes: float64(4)\n",
      "memory usage: 19.5 KB\n"
     ]
    }
   ],
   "source": [
    "df_corr.info()"
   ]
  },
  {
   "cell_type": "code",
   "execution_count": null,
   "metadata": {},
   "outputs": [
    {
     "data": {
      "text/html": [
       "<div>\n",
       "<style scoped>\n",
       "    .dataframe tbody tr th:only-of-type {\n",
       "        vertical-align: middle;\n",
       "    }\n",
       "\n",
       "    .dataframe tbody tr th {\n",
       "        vertical-align: top;\n",
       "    }\n",
       "\n",
       "    .dataframe thead th {\n",
       "        text-align: right;\n",
       "    }\n",
       "</style>\n",
       "<table border=\"1\" class=\"dataframe\">\n",
       "  <thead>\n",
       "    <tr style=\"text-align: right;\">\n",
       "      <th></th>\n",
       "      <th>SP500</th>\n",
       "      <th>MSFT</th>\n",
       "      <th>SKhynix</th>\n",
       "      <th>Samsung</th>\n",
       "    </tr>\n",
       "  </thead>\n",
       "  <tbody>\n",
       "    <tr>\n",
       "      <th>SP500</th>\n",
       "      <td>1.000000</td>\n",
       "      <td>0.902383</td>\n",
       "      <td>0.896630</td>\n",
       "      <td>-0.083830</td>\n",
       "    </tr>\n",
       "    <tr>\n",
       "      <th>MSFT</th>\n",
       "      <td>0.902383</td>\n",
       "      <td>1.000000</td>\n",
       "      <td>0.919034</td>\n",
       "      <td>0.265676</td>\n",
       "    </tr>\n",
       "    <tr>\n",
       "      <th>SKhynix</th>\n",
       "      <td>0.896630</td>\n",
       "      <td>0.919034</td>\n",
       "      <td>1.000000</td>\n",
       "      <td>0.250298</td>\n",
       "    </tr>\n",
       "    <tr>\n",
       "      <th>Samsung</th>\n",
       "      <td>-0.083830</td>\n",
       "      <td>0.265676</td>\n",
       "      <td>0.250298</td>\n",
       "      <td>1.000000</td>\n",
       "    </tr>\n",
       "  </tbody>\n",
       "</table>\n",
       "</div>"
      ],
      "text/plain": [
       "            SP500      MSFT   SKhynix   Samsung\n",
       "SP500    1.000000  0.902383  0.896630 -0.083830\n",
       "MSFT     0.902383  1.000000  0.919034  0.265676\n",
       "SKhynix  0.896630  0.919034  1.000000  0.250298\n",
       "Samsung -0.083830  0.265676  0.250298  1.000000"
      ]
     },
     "execution_count": 16,
     "metadata": {},
     "output_type": "execute_result"
    }
   ],
   "source": [
    "correlation_matrix = df_corr.corr()\n",
    "correlation_matrix\n",
    "\n",
    "# df_corr.corr()는 df_corr 데이터프레임에서 각 열(특징) 간의 상관계수(correlation coefficient)를 계산하는 함수입니다.\n",
    "# 상관계수는 두 변수 간의 관계 강도를 측정하는 값으로, -1에서 1 사이의 값으로 나타납니다.\n",
    "\n",
    "# 1: 완전한 양의 상관관계 (두 변수는 동일하게 변함)\n",
    "# -1: 완전한 음의 상관관계 (한 변수가 증가할 때 다른 변수는 감소)\n",
    "# 0: 상관관계 없음 (두 변수 간의 변화가 서로 관련이 없음)\n",
    "# 각 변수의 상관계수는 두 변수 간의 선형 관계를 측정합니다."
   ]
  },
  {
   "cell_type": "code",
   "execution_count": null,
   "metadata": {},
   "outputs": [
    {
     "data": {
      "image/png": "[encoded data removed]",
      "text/plain": [
       "<Figure size 640x480 with 2 Axes>"
      ]
     },
     "metadata": {},
     "output_type": "display_data"
    }
   ],
   "source": [
    "import seaborn as sns\n",
    "\n",
    "# sns.heatmap(correlation_matrix)\n",
    "sns.heatmap(correlation_matrix, annot=True, fmt = '.2f') \n",
    "\n",
    "plt.show()\n",
    "\n",
    "# sns.heatmap(): seaborn의 히트맵 함수로, 2D 데이터를 시각적으로 표현하는 데 사용됩니다.\n",
    "# 히트맵은 값을 색상으로 시각화하여, 데이터의 패턴을 쉽게 파악할 수 있게 도와줍니다.\n",
    "\n",
    "# correlation_matrix: 이 매개변수는 상관 행렬을 의미합니다. 상관 행렬을 히트맵으로 시각화합니다.\n",
    "\n",
    "# annot=True: True로 설정하면 각 셀에 상관계수 값을 숫자로 표시합니다.\n",
    "\n",
    "# 예: 셀 안에 0.85, -0.3과 같은 숫자가 표시됩니다.\n",
    "# fmt='.2f': 숫자의 표시 형식을 지정합니다. '.2f'는 소수점 이하 두 자릿수로 숫자를 표시한다는 의미입니다. 예를 들어 0.855는 0.86으로 표시됩니다."
   ]
  },
  {
   "cell_type": "code",
   "execution_count": null,
   "metadata": {},
   "outputs": [],
   "source": []
  }
 ],
 "metadata": {
  "kernelspec": {
   "display_name": "Python 3",
   "language": "python",
   "name": "python3"
  },
  "language_info": {
   "codemirror_mode": {
    "name": "ipython",
    "version": 3
   },
   "file_extension": ".py",
   "mimetype": "text/x-python",
   "name": "python",
   "nbconvert_exporter": "python",
   "pygments_lexer": "ipython3",
   "version": "3.11.11"
  }
 },
 "nbformat": 4,
 "nbformat_minor": 2
}
